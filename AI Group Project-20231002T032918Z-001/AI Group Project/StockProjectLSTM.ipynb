{
 "cells": [
  {
   "cell_type": "markdown",
   "metadata": {
    "id": "PJATlL6M0mo6"
   },
   "source": [
    "The tutorial on https://www.projectpro.io/article/stock-price-prediction-using-machine-learning-project/571 was followed to figure out what libraries and function were effective in creating these models."
   ]
  },
  {
   "cell_type": "code",
   "execution_count": null,
   "metadata": {
    "id": "YPeZqbD9hrFK"
   },
   "outputs": [],
   "source": [
    "import pandas as pd\n",
    "import numpy as np\n",
    "import matplotlib.pyplot as plt\n",
    "import matplotlib.dates as mdates\n",
    "import datetime as dt\n",
    "import io\n",
    "from google.colab import files\n",
    "\n",
    "from tensorflow import keras\n",
    "from keras.models import Sequential\n",
    "from keras.layers import Dense\n",
    "from keras.layers import LSTM\n",
    "from keras.layers import Dropout\n",
    "from keras.layers import *\n",
    "from keras.callbacks import EarlyStopping\n",
    "\n",
    "from sklearn.preprocessing import MinMaxScaler, StandardScaler\n",
    "from sklearn.metrics import mean_squared_error\n",
    "from sklearn.metrics import mean_absolute_percentage_error\n",
    "from sklearn.model_selection import train_test_split\n",
    "from sklearn.model_selection import TimeSeriesSplit\n",
    "from sklearn.metrics import mean_squared_error\n"
   ]
  },
  {
   "cell_type": "code",
   "execution_count": null,
   "metadata": {
    "colab": {
     "background_save": true,
     "base_uri": "https://localhost:8080/",
     "height": 0
    },
    "id": "iiVrDbcQiIrU"
   },
   "outputs": [
    {
     "data": {
      "text/html": [
       "\n",
       "     <input type=\"file\" id=\"files-54b9cd8a-e7cf-4b88-8bc1-63718b328565\" name=\"files[]\" multiple disabled\n",
       "        style=\"border:none\" />\n",
       "     <output id=\"result-54b9cd8a-e7cf-4b88-8bc1-63718b328565\">\n",
       "      Upload widget is only available when the cell has been executed in the\n",
       "      current browser session. Please rerun this cell to enable.\n",
       "      </output>\n",
       "      <script>// Copyright 2017 Google LLC\n",
       "//\n",
       "// Licensed under the Apache License, Version 2.0 (the \"License\");\n",
       "// you may not use this file except in compliance with the License.\n",
       "// You may obtain a copy of the License at\n",
       "//\n",
       "//      http://www.apache.org/licenses/LICENSE-2.0\n",
       "//\n",
       "// Unless required by applicable law or agreed to in writing, software\n",
       "// distributed under the License is distributed on an \"AS IS\" BASIS,\n",
       "// WITHOUT WARRANTIES OR CONDITIONS OF ANY KIND, either express or implied.\n",
       "// See the License for the specific language governing permissions and\n",
       "// limitations under the License.\n",
       "\n",
       "/**\n",
       " * @fileoverview Helpers for google.colab Python module.\n",
       " */\n",
       "(function(scope) {\n",
       "function span(text, styleAttributes = {}) {\n",
       "  const element = document.createElement('span');\n",
       "  element.textContent = text;\n",
       "  for (const key of Object.keys(styleAttributes)) {\n",
       "    element.style[key] = styleAttributes[key];\n",
       "  }\n",
       "  return element;\n",
       "}\n",
       "\n",
       "// Max number of bytes which will be uploaded at a time.\n",
       "const MAX_PAYLOAD_SIZE = 100 * 1024;\n",
       "\n",
       "function _uploadFiles(inputId, outputId) {\n",
       "  const steps = uploadFilesStep(inputId, outputId);\n",
       "  const outputElement = document.getElementById(outputId);\n",
       "  // Cache steps on the outputElement to make it available for the next call\n",
       "  // to uploadFilesContinue from Python.\n",
       "  outputElement.steps = steps;\n",
       "\n",
       "  return _uploadFilesContinue(outputId);\n",
       "}\n",
       "\n",
       "// This is roughly an async generator (not supported in the browser yet),\n",
       "// where there are multiple asynchronous steps and the Python side is going\n",
       "// to poll for completion of each step.\n",
       "// This uses a Promise to block the python side on completion of each step,\n",
       "// then passes the result of the previous step as the input to the next step.\n",
       "function _uploadFilesContinue(outputId) {\n",
       "  const outputElement = document.getElementById(outputId);\n",
       "  const steps = outputElement.steps;\n",
       "\n",
       "  const next = steps.next(outputElement.lastPromiseValue);\n",
       "  return Promise.resolve(next.value.promise).then((value) => {\n",
       "    // Cache the last promise value to make it available to the next\n",
       "    // step of the generator.\n",
       "    outputElement.lastPromiseValue = value;\n",
       "    return next.value.response;\n",
       "  });\n",
       "}\n",
       "\n",
       "/**\n",
       " * Generator function which is called between each async step of the upload\n",
       " * process.\n",
       " * @param {string} inputId Element ID of the input file picker element.\n",
       " * @param {string} outputId Element ID of the output display.\n",
       " * @return {!Iterable<!Object>} Iterable of next steps.\n",
       " */\n",
       "function* uploadFilesStep(inputId, outputId) {\n",
       "  const inputElement = document.getElementById(inputId);\n",
       "  inputElement.disabled = false;\n",
       "\n",
       "  const outputElement = document.getElementById(outputId);\n",
       "  outputElement.innerHTML = '';\n",
       "\n",
       "  const pickedPromise = new Promise((resolve) => {\n",
       "    inputElement.addEventListener('change', (e) => {\n",
       "      resolve(e.target.files);\n",
       "    });\n",
       "  });\n",
       "\n",
       "  const cancel = document.createElement('button');\n",
       "  inputElement.parentElement.appendChild(cancel);\n",
       "  cancel.textContent = 'Cancel upload';\n",
       "  const cancelPromise = new Promise((resolve) => {\n",
       "    cancel.onclick = () => {\n",
       "      resolve(null);\n",
       "    };\n",
       "  });\n",
       "\n",
       "  // Wait for the user to pick the files.\n",
       "  const files = yield {\n",
       "    promise: Promise.race([pickedPromise, cancelPromise]),\n",
       "    response: {\n",
       "      action: 'starting',\n",
       "    }\n",
       "  };\n",
       "\n",
       "  cancel.remove();\n",
       "\n",
       "  // Disable the input element since further picks are not allowed.\n",
       "  inputElement.disabled = true;\n",
       "\n",
       "  if (!files) {\n",
       "    return {\n",
       "      response: {\n",
       "        action: 'complete',\n",
       "      }\n",
       "    };\n",
       "  }\n",
       "\n",
       "  for (const file of files) {\n",
       "    const li = document.createElement('li');\n",
       "    li.append(span(file.name, {fontWeight: 'bold'}));\n",
       "    li.append(span(\n",
       "        `(${file.type || 'n/a'}) - ${file.size} bytes, ` +\n",
       "        `last modified: ${\n",
       "            file.lastModifiedDate ? file.lastModifiedDate.toLocaleDateString() :\n",
       "                                    'n/a'} - `));\n",
       "    const percent = span('0% done');\n",
       "    li.appendChild(percent);\n",
       "\n",
       "    outputElement.appendChild(li);\n",
       "\n",
       "    const fileDataPromise = new Promise((resolve) => {\n",
       "      const reader = new FileReader();\n",
       "      reader.onload = (e) => {\n",
       "        resolve(e.target.result);\n",
       "      };\n",
       "      reader.readAsArrayBuffer(file);\n",
       "    });\n",
       "    // Wait for the data to be ready.\n",
       "    let fileData = yield {\n",
       "      promise: fileDataPromise,\n",
       "      response: {\n",
       "        action: 'continue',\n",
       "      }\n",
       "    };\n",
       "\n",
       "    // Use a chunked sending to avoid message size limits. See b/62115660.\n",
       "    let position = 0;\n",
       "    do {\n",
       "      const length = Math.min(fileData.byteLength - position, MAX_PAYLOAD_SIZE);\n",
       "      const chunk = new Uint8Array(fileData, position, length);\n",
       "      position += length;\n",
       "\n",
       "      const base64 = btoa(String.fromCharCode.apply(null, chunk));\n",
       "      yield {\n",
       "        response: {\n",
       "          action: 'append',\n",
       "          file: file.name,\n",
       "          data: base64,\n",
       "        },\n",
       "      };\n",
       "\n",
       "      let percentDone = fileData.byteLength === 0 ?\n",
       "          100 :\n",
       "          Math.round((position / fileData.byteLength) * 100);\n",
       "      percent.textContent = `${percentDone}% done`;\n",
       "\n",
       "    } while (position < fileData.byteLength);\n",
       "  }\n",
       "\n",
       "  // All done.\n",
       "  yield {\n",
       "    response: {\n",
       "      action: 'complete',\n",
       "    }\n",
       "  };\n",
       "}\n",
       "\n",
       "scope.google = scope.google || {};\n",
       "scope.google.colab = scope.google.colab || {};\n",
       "scope.google.colab._files = {\n",
       "  _uploadFiles,\n",
       "  _uploadFilesContinue,\n",
       "};\n",
       "})(self);\n",
       "</script> "
      ],
      "text/plain": [
       "<IPython.core.display.HTML object>"
      ]
     },
     "metadata": {},
     "output_type": "display_data"
    }
   ],
   "source": [
    "uploaded = files.upload()"
   ]
  },
  {
   "cell_type": "markdown",
   "metadata": {
    "id": "rN4l0G9KsN8T"
   },
   "source": [
    "Read in the Stock data sourced from yahoo finance. In this case we chose to do NVIDIA because it's been a fairly consistent stock with good growth and the potential to really explode in the age of AI."
   ]
  },
  {
   "cell_type": "code",
   "execution_count": null,
   "metadata": {
    "id": "ZOQ08ZvSih4B"
   },
   "outputs": [],
   "source": [
    "stock_df = pd.read_csv(io.BytesIO(uploaded['NVDA.csv']), index_col='Date')"
   ]
  },
  {
   "cell_type": "code",
   "execution_count": null,
   "metadata": {
    "colab": {
     "base_uri": "https://localhost:8080/",
     "height": 237
    },
    "executionInfo": {
     "elapsed": 12,
     "status": "ok",
     "timestamp": 1690841217035,
     "user": {
      "displayName": "Clay Roberts",
      "userId": "15262378552571056378"
     },
     "user_tz": 300
    },
    "id": "NvCZwTiSjMeJ",
    "outputId": "4eaa29d4-0b4f-433c-9758-e3334b84387f"
   },
   "outputs": [
    {
     "data": {
      "text/html": [
       "\n",
       "\n",
       "  <div id=\"df-35bd5da6-ebf8-4398-88cb-f31f35b206b0\">\n",
       "    <div class=\"colab-df-container\">\n",
       "      <div>\n",
       "<style scoped>\n",
       "    .dataframe tbody tr th:only-of-type {\n",
       "        vertical-align: middle;\n",
       "    }\n",
       "\n",
       "    .dataframe tbody tr th {\n",
       "        vertical-align: top;\n",
       "    }\n",
       "\n",
       "    .dataframe thead th {\n",
       "        text-align: right;\n",
       "    }\n",
       "</style>\n",
       "<table border=\"1\" class=\"dataframe\">\n",
       "  <thead>\n",
       "    <tr style=\"text-align: right;\">\n",
       "      <th></th>\n",
       "      <th>Open</th>\n",
       "      <th>High</th>\n",
       "      <th>Low</th>\n",
       "      <th>Close</th>\n",
       "      <th>Adj Close</th>\n",
       "      <th>Volume</th>\n",
       "    </tr>\n",
       "    <tr>\n",
       "      <th>Date</th>\n",
       "      <th></th>\n",
       "      <th></th>\n",
       "      <th></th>\n",
       "      <th></th>\n",
       "      <th></th>\n",
       "      <th></th>\n",
       "    </tr>\n",
       "  </thead>\n",
       "  <tbody>\n",
       "    <tr>\n",
       "      <th>1999-01-22</th>\n",
       "      <td>0.437500</td>\n",
       "      <td>0.488281</td>\n",
       "      <td>0.388021</td>\n",
       "      <td>0.410156</td>\n",
       "      <td>0.376319</td>\n",
       "      <td>271468800</td>\n",
       "    </tr>\n",
       "    <tr>\n",
       "      <th>1999-01-25</th>\n",
       "      <td>0.442708</td>\n",
       "      <td>0.458333</td>\n",
       "      <td>0.410156</td>\n",
       "      <td>0.453125</td>\n",
       "      <td>0.415743</td>\n",
       "      <td>51048000</td>\n",
       "    </tr>\n",
       "    <tr>\n",
       "      <th>1999-01-26</th>\n",
       "      <td>0.458333</td>\n",
       "      <td>0.467448</td>\n",
       "      <td>0.411458</td>\n",
       "      <td>0.417969</td>\n",
       "      <td>0.383487</td>\n",
       "      <td>34320000</td>\n",
       "    </tr>\n",
       "    <tr>\n",
       "      <th>1999-01-27</th>\n",
       "      <td>0.419271</td>\n",
       "      <td>0.429688</td>\n",
       "      <td>0.395833</td>\n",
       "      <td>0.416667</td>\n",
       "      <td>0.382293</td>\n",
       "      <td>24436800</td>\n",
       "    </tr>\n",
       "    <tr>\n",
       "      <th>1999-01-28</th>\n",
       "      <td>0.416667</td>\n",
       "      <td>0.419271</td>\n",
       "      <td>0.412760</td>\n",
       "      <td>0.415365</td>\n",
       "      <td>0.381098</td>\n",
       "      <td>22752000</td>\n",
       "    </tr>\n",
       "  </tbody>\n",
       "</table>\n",
       "</div>\n",
       "      <button class=\"colab-df-convert\" onclick=\"convertToInteractive('df-35bd5da6-ebf8-4398-88cb-f31f35b206b0')\"\n",
       "              title=\"Convert this dataframe to an interactive table.\"\n",
       "              style=\"display:none;\">\n",
       "\n",
       "  <svg xmlns=\"http://www.w3.org/2000/svg\" height=\"24px\"viewBox=\"0 0 24 24\"\n",
       "       width=\"24px\">\n",
       "    <path d=\"M0 0h24v24H0V0z\" fill=\"none\"/>\n",
       "    <path d=\"M18.56 5.44l.94 2.06.94-2.06 2.06-.94-2.06-.94-.94-2.06-.94 2.06-2.06.94zm-11 1L8.5 8.5l.94-2.06 2.06-.94-2.06-.94L8.5 2.5l-.94 2.06-2.06.94zm10 10l.94 2.06.94-2.06 2.06-.94-2.06-.94-.94-2.06-.94 2.06-2.06.94z\"/><path d=\"M17.41 7.96l-1.37-1.37c-.4-.4-.92-.59-1.43-.59-.52 0-1.04.2-1.43.59L10.3 9.45l-7.72 7.72c-.78.78-.78 2.05 0 2.83L4 21.41c.39.39.9.59 1.41.59.51 0 1.02-.2 1.41-.59l7.78-7.78 2.81-2.81c.8-.78.8-2.07 0-2.86zM5.41 20L4 18.59l7.72-7.72 1.47 1.35L5.41 20z\"/>\n",
       "  </svg>\n",
       "      </button>\n",
       "\n",
       "\n",
       "\n",
       "    <div id=\"df-16dc81e2-655e-4589-9a94-24ab7c363a40\">\n",
       "      <button class=\"colab-df-quickchart\" onclick=\"quickchart('df-16dc81e2-655e-4589-9a94-24ab7c363a40')\"\n",
       "              title=\"Suggest charts.\"\n",
       "              style=\"display:none;\">\n",
       "\n",
       "<svg xmlns=\"http://www.w3.org/2000/svg\" height=\"24px\"viewBox=\"0 0 24 24\"\n",
       "     width=\"24px\">\n",
       "    <g>\n",
       "        <path d=\"M19 3H5c-1.1 0-2 .9-2 2v14c0 1.1.9 2 2 2h14c1.1 0 2-.9 2-2V5c0-1.1-.9-2-2-2zM9 17H7v-7h2v7zm4 0h-2V7h2v10zm4 0h-2v-4h2v4z\"/>\n",
       "    </g>\n",
       "</svg>\n",
       "      </button>\n",
       "    </div>\n",
       "\n",
       "<style>\n",
       "  .colab-df-quickchart {\n",
       "    background-color: #E8F0FE;\n",
       "    border: none;\n",
       "    border-radius: 50%;\n",
       "    cursor: pointer;\n",
       "    display: none;\n",
       "    fill: #1967D2;\n",
       "    height: 32px;\n",
       "    padding: 0 0 0 0;\n",
       "    width: 32px;\n",
       "  }\n",
       "\n",
       "  .colab-df-quickchart:hover {\n",
       "    background-color: #E2EBFA;\n",
       "    box-shadow: 0px 1px 2px rgba(60, 64, 67, 0.3), 0px 1px 3px 1px rgba(60, 64, 67, 0.15);\n",
       "    fill: #174EA6;\n",
       "  }\n",
       "\n",
       "  [theme=dark] .colab-df-quickchart {\n",
       "    background-color: #3B4455;\n",
       "    fill: #D2E3FC;\n",
       "  }\n",
       "\n",
       "  [theme=dark] .colab-df-quickchart:hover {\n",
       "    background-color: #434B5C;\n",
       "    box-shadow: 0px 1px 3px 1px rgba(0, 0, 0, 0.15);\n",
       "    filter: drop-shadow(0px 1px 2px rgba(0, 0, 0, 0.3));\n",
       "    fill: #FFFFFF;\n",
       "  }\n",
       "</style>\n",
       "\n",
       "    <script>\n",
       "      async function quickchart(key) {\n",
       "        const containerElement = document.querySelector('#' + key);\n",
       "        const charts = await google.colab.kernel.invokeFunction(\n",
       "            'suggestCharts', [key], {});\n",
       "      }\n",
       "    </script>\n",
       "\n",
       "      <script>\n",
       "\n",
       "function displayQuickchartButton(domScope) {\n",
       "  let quickchartButtonEl =\n",
       "    domScope.querySelector('#df-16dc81e2-655e-4589-9a94-24ab7c363a40 button.colab-df-quickchart');\n",
       "  quickchartButtonEl.style.display =\n",
       "    google.colab.kernel.accessAllowed ? 'block' : 'none';\n",
       "}\n",
       "\n",
       "        displayQuickchartButton(document);\n",
       "      </script>\n",
       "      <style>\n",
       "    .colab-df-container {\n",
       "      display:flex;\n",
       "      flex-wrap:wrap;\n",
       "      gap: 12px;\n",
       "    }\n",
       "\n",
       "    .colab-df-convert {\n",
       "      background-color: #E8F0FE;\n",
       "      border: none;\n",
       "      border-radius: 50%;\n",
       "      cursor: pointer;\n",
       "      display: none;\n",
       "      fill: #1967D2;\n",
       "      height: 32px;\n",
       "      padding: 0 0 0 0;\n",
       "      width: 32px;\n",
       "    }\n",
       "\n",
       "    .colab-df-convert:hover {\n",
       "      background-color: #E2EBFA;\n",
       "      box-shadow: 0px 1px 2px rgba(60, 64, 67, 0.3), 0px 1px 3px 1px rgba(60, 64, 67, 0.15);\n",
       "      fill: #174EA6;\n",
       "    }\n",
       "\n",
       "    [theme=dark] .colab-df-convert {\n",
       "      background-color: #3B4455;\n",
       "      fill: #D2E3FC;\n",
       "    }\n",
       "\n",
       "    [theme=dark] .colab-df-convert:hover {\n",
       "      background-color: #434B5C;\n",
       "      box-shadow: 0px 1px 3px 1px rgba(0, 0, 0, 0.15);\n",
       "      filter: drop-shadow(0px 1px 2px rgba(0, 0, 0, 0.3));\n",
       "      fill: #FFFFFF;\n",
       "    }\n",
       "  </style>\n",
       "\n",
       "      <script>\n",
       "        const buttonEl =\n",
       "          document.querySelector('#df-35bd5da6-ebf8-4398-88cb-f31f35b206b0 button.colab-df-convert');\n",
       "        buttonEl.style.display =\n",
       "          google.colab.kernel.accessAllowed ? 'block' : 'none';\n",
       "\n",
       "        async function convertToInteractive(key) {\n",
       "          const element = document.querySelector('#df-35bd5da6-ebf8-4398-88cb-f31f35b206b0');\n",
       "          const dataTable =\n",
       "            await google.colab.kernel.invokeFunction('convertToInteractive',\n",
       "                                                     [key], {});\n",
       "          if (!dataTable) return;\n",
       "\n",
       "          const docLinkHtml = 'Like what you see? Visit the ' +\n",
       "            '<a target=\"_blank\" href=https://colab.research.google.com/notebooks/data_table.ipynb>data table notebook</a>'\n",
       "            + ' to learn more about interactive tables.';\n",
       "          element.innerHTML = '';\n",
       "          dataTable['output_type'] = 'display_data';\n",
       "          await google.colab.output.renderOutput(dataTable, element);\n",
       "          const docLink = document.createElement('div');\n",
       "          docLink.innerHTML = docLinkHtml;\n",
       "          element.appendChild(docLink);\n",
       "        }\n",
       "      </script>\n",
       "    </div>\n",
       "  </div>\n"
      ],
      "text/plain": [
       "                Open      High       Low     Close  Adj Close     Volume\n",
       "Date                                                                    \n",
       "1999-01-22  0.437500  0.488281  0.388021  0.410156   0.376319  271468800\n",
       "1999-01-25  0.442708  0.458333  0.410156  0.453125   0.415743   51048000\n",
       "1999-01-26  0.458333  0.467448  0.411458  0.417969   0.383487   34320000\n",
       "1999-01-27  0.419271  0.429688  0.395833  0.416667   0.382293   24436800\n",
       "1999-01-28  0.416667  0.419271  0.412760  0.415365   0.381098   22752000"
      ]
     },
     "execution_count": 47,
     "metadata": {},
     "output_type": "execute_result"
    }
   ],
   "source": [
    "stock_df.head()"
   ]
  },
  {
   "cell_type": "markdown",
   "metadata": {
    "id": "n8277TIlsknD"
   },
   "source": [
    "Next, we plot all the data out to get a visuallization of what this stock looks like behavior wise."
   ]
  },
  {
   "cell_type": "code",
   "execution_count": null,
   "metadata": {
    "colab": {
     "base_uri": "https://localhost:8080/",
     "height": 458
    },
    "executionInfo": {
     "elapsed": 553,
     "status": "ok",
     "timestamp": 1690841217578,
     "user": {
      "displayName": "Clay Roberts",
      "userId": "15262378552571056378"
     },
     "user_tz": 300
    },
    "id": "GlrHz8HmjO-a",
    "outputId": "636cab03-8205-42cd-e416-7d32390f2f8d"
   },
   "outputs": [
    {
     "data": {
      "image/png": "[encoded data removed]",
      "text/plain": [
       "<Figure size 1000x500 with 1 Axes>"
      ]
     },
     "metadata": {},
     "output_type": "display_data"
    }
   ],
   "source": [
    "plt.figure(figsize=(10,5))\n",
    "plt.gca().xaxis.set_major_formatter(mdates.DateFormatter('%Y-%m-%d'))\n",
    "plt.gca().xaxis.set_major_locator(mdates.DayLocator(interval=365))\n",
    "x_dates = [dt.datetime.strptime(d, '%Y-%m-%d').date() for d in stock_df.index.values]\n",
    "\n",
    "plt.plot(x_dates, stock_df['High'], label='High')\n",
    "plt.plot(x_dates, stock_df['Low'], label='Low')\n",
    "plt.xlabel('Year to Year')\n",
    "plt.ylabel('USD')\n",
    "plt.legend()\n",
    "plt.gcf().autofmt_xdate()\n",
    "plt.show()"
   ]
  },
  {
   "cell_type": "code",
   "execution_count": null,
   "metadata": {
    "colab": {
     "base_uri": "https://localhost:8080/",
     "height": 237
    },
    "executionInfo": {
     "elapsed": 13,
     "status": "ok",
     "timestamp": 1690841217579,
     "user": {
      "displayName": "Clay Roberts",
      "userId": "15262378552571056378"
     },
     "user_tz": 300
    },
    "id": "Msl1yrqTHTJ-",
    "outputId": "55149107-5877-4ff6-88d1-09f08648bf3c"
   },
   "outputs": [
    {
     "data": {
      "text/html": [
       "\n",
       "\n",
       "  <div id=\"df-b566aa8f-b815-4b74-ab55-01bdd06dbb32\">\n",
       "    <div class=\"colab-df-container\">\n",
       "      <div>\n",
       "<style scoped>\n",
       "    .dataframe tbody tr th:only-of-type {\n",
       "        vertical-align: middle;\n",
       "    }\n",
       "\n",
       "    .dataframe tbody tr th {\n",
       "        vertical-align: top;\n",
       "    }\n",
       "\n",
       "    .dataframe thead th {\n",
       "        text-align: right;\n",
       "    }\n",
       "</style>\n",
       "<table border=\"1\" class=\"dataframe\">\n",
       "  <thead>\n",
       "    <tr style=\"text-align: right;\">\n",
       "      <th></th>\n",
       "      <th>Open</th>\n",
       "      <th>High</th>\n",
       "      <th>Low</th>\n",
       "      <th>Close</th>\n",
       "      <th>Adj Close</th>\n",
       "      <th>Volume</th>\n",
       "    </tr>\n",
       "    <tr>\n",
       "      <th>Date</th>\n",
       "      <th></th>\n",
       "      <th></th>\n",
       "      <th></th>\n",
       "      <th></th>\n",
       "      <th></th>\n",
       "      <th></th>\n",
       "    </tr>\n",
       "  </thead>\n",
       "  <tbody>\n",
       "    <tr>\n",
       "      <th>2023-07-05</th>\n",
       "      <td>421.350006</td>\n",
       "      <td>431.769989</td>\n",
       "      <td>420.850006</td>\n",
       "      <td>423.170013</td>\n",
       "      <td>423.170013</td>\n",
       "      <td>32361800</td>\n",
       "    </tr>\n",
       "    <tr>\n",
       "      <th>2023-07-06</th>\n",
       "      <td>418.440002</td>\n",
       "      <td>421.790009</td>\n",
       "      <td>413.459991</td>\n",
       "      <td>421.029999</td>\n",
       "      <td>421.029999</td>\n",
       "      <td>30358200</td>\n",
       "    </tr>\n",
       "    <tr>\n",
       "      <th>2023-07-07</th>\n",
       "      <td>423.220001</td>\n",
       "      <td>432.140015</td>\n",
       "      <td>421.799988</td>\n",
       "      <td>425.029999</td>\n",
       "      <td>425.029999</td>\n",
       "      <td>35525300</td>\n",
       "    </tr>\n",
       "    <tr>\n",
       "      <th>2023-07-10</th>\n",
       "      <td>426.570007</td>\n",
       "      <td>428.109985</td>\n",
       "      <td>416.489990</td>\n",
       "      <td>421.799988</td>\n",
       "      <td>421.799988</td>\n",
       "      <td>35390800</td>\n",
       "    </tr>\n",
       "    <tr>\n",
       "      <th>2023-07-11</th>\n",
       "      <td>424.809998</td>\n",
       "      <td>427.579987</td>\n",
       "      <td>420.670013</td>\n",
       "      <td>424.049988</td>\n",
       "      <td>424.049988</td>\n",
       "      <td>29777500</td>\n",
       "    </tr>\n",
       "  </tbody>\n",
       "</table>\n",
       "</div>\n",
       "      <button class=\"colab-df-convert\" onclick=\"convertToInteractive('df-b566aa8f-b815-4b74-ab55-01bdd06dbb32')\"\n",
       "              title=\"Convert this dataframe to an interactive table.\"\n",
       "              style=\"display:none;\">\n",
       "\n",
       "  <svg xmlns=\"http://www.w3.org/2000/svg\" height=\"24px\"viewBox=\"0 0 24 24\"\n",
       "       width=\"24px\">\n",
       "    <path d=\"M0 0h24v24H0V0z\" fill=\"none\"/>\n",
       "    <path d=\"M18.56 5.44l.94 2.06.94-2.06 2.06-.94-2.06-.94-.94-2.06-.94 2.06-2.06.94zm-11 1L8.5 8.5l.94-2.06 2.06-.94-2.06-.94L8.5 2.5l-.94 2.06-2.06.94zm10 10l.94 2.06.94-2.06 2.06-.94-2.06-.94-.94-2.06-.94 2.06-2.06.94z\"/><path d=\"M17.41 7.96l-1.37-1.37c-.4-.4-.92-.59-1.43-.59-.52 0-1.04.2-1.43.59L10.3 9.45l-7.72 7.72c-.78.78-.78 2.05 0 2.83L4 21.41c.39.39.9.59 1.41.59.51 0 1.02-.2 1.41-.59l7.78-7.78 2.81-2.81c.8-.78.8-2.07 0-2.86zM5.41 20L4 18.59l7.72-7.72 1.47 1.35L5.41 20z\"/>\n",
       "  </svg>\n",
       "      </button>\n",
       "\n",
       "\n",
       "\n",
       "    <div id=\"df-61360506-7740-4d28-8112-c663b5dd1f49\">\n",
       "      <button class=\"colab-df-quickchart\" onclick=\"quickchart('df-61360506-7740-4d28-8112-c663b5dd1f49')\"\n",
       "              title=\"Suggest charts.\"\n",
       "              style=\"display:none;\">\n",
       "\n",
       "<svg xmlns=\"http://www.w3.org/2000/svg\" height=\"24px\"viewBox=\"0 0 24 24\"\n",
       "     width=\"24px\">\n",
       "    <g>\n",
       "        <path d=\"M19 3H5c-1.1 0-2 .9-2 2v14c0 1.1.9 2 2 2h14c1.1 0 2-.9 2-2V5c0-1.1-.9-2-2-2zM9 17H7v-7h2v7zm4 0h-2V7h2v10zm4 0h-2v-4h2v4z\"/>\n",
       "    </g>\n",
       "</svg>\n",
       "      </button>\n",
       "    </div>\n",
       "\n",
       "<style>\n",
       "  .colab-df-quickchart {\n",
       "    background-color: #E8F0FE;\n",
       "    border: none;\n",
       "    border-radius: 50%;\n",
       "    cursor: pointer;\n",
       "    display: none;\n",
       "    fill: #1967D2;\n",
       "    height: 32px;\n",
       "    padding: 0 0 0 0;\n",
       "    width: 32px;\n",
       "  }\n",
       "\n",
       "  .colab-df-quickchart:hover {\n",
       "    background-color: #E2EBFA;\n",
       "    box-shadow: 0px 1px 2px rgba(60, 64, 67, 0.3), 0px 1px 3px 1px rgba(60, 64, 67, 0.15);\n",
       "    fill: #174EA6;\n",
       "  }\n",
       "\n",
       "  [theme=dark] .colab-df-quickchart {\n",
       "    background-color: #3B4455;\n",
       "    fill: #D2E3FC;\n",
       "  }\n",
       "\n",
       "  [theme=dark] .colab-df-quickchart:hover {\n",
       "    background-color: #434B5C;\n",
       "    box-shadow: 0px 1px 3px 1px rgba(0, 0, 0, 0.15);\n",
       "    filter: drop-shadow(0px 1px 2px rgba(0, 0, 0, 0.3));\n",
       "    fill: #FFFFFF;\n",
       "  }\n",
       "</style>\n",
       "\n",
       "    <script>\n",
       "      async function quickchart(key) {\n",
       "        const containerElement = document.querySelector('#' + key);\n",
       "        const charts = await google.colab.kernel.invokeFunction(\n",
       "            'suggestCharts', [key], {});\n",
       "      }\n",
       "    </script>\n",
       "\n",
       "      <script>\n",
       "\n",
       "function displayQuickchartButton(domScope) {\n",
       "  let quickchartButtonEl =\n",
       "    domScope.querySelector('#df-61360506-7740-4d28-8112-c663b5dd1f49 button.colab-df-quickchart');\n",
       "  quickchartButtonEl.style.display =\n",
       "    google.colab.kernel.accessAllowed ? 'block' : 'none';\n",
       "}\n",
       "\n",
       "        displayQuickchartButton(document);\n",
       "      </script>\n",
       "      <style>\n",
       "    .colab-df-container {\n",
       "      display:flex;\n",
       "      flex-wrap:wrap;\n",
       "      gap: 12px;\n",
       "    }\n",
       "\n",
       "    .colab-df-convert {\n",
       "      background-color: #E8F0FE;\n",
       "      border: none;\n",
       "      border-radius: 50%;\n",
       "      cursor: pointer;\n",
       "      display: none;\n",
       "      fill: #1967D2;\n",
       "      height: 32px;\n",
       "      padding: 0 0 0 0;\n",
       "      width: 32px;\n",
       "    }\n",
       "\n",
       "    .colab-df-convert:hover {\n",
       "      background-color: #E2EBFA;\n",
       "      box-shadow: 0px 1px 2px rgba(60, 64, 67, 0.3), 0px 1px 3px 1px rgba(60, 64, 67, 0.15);\n",
       "      fill: #174EA6;\n",
       "    }\n",
       "\n",
       "    [theme=dark] .colab-df-convert {\n",
       "      background-color: #3B4455;\n",
       "      fill: #D2E3FC;\n",
       "    }\n",
       "\n",
       "    [theme=dark] .colab-df-convert:hover {\n",
       "      background-color: #434B5C;\n",
       "      box-shadow: 0px 1px 3px 1px rgba(0, 0, 0, 0.15);\n",
       "      filter: drop-shadow(0px 1px 2px rgba(0, 0, 0, 0.3));\n",
       "      fill: #FFFFFF;\n",
       "    }\n",
       "  </style>\n",
       "\n",
       "      <script>\n",
       "        const buttonEl =\n",
       "          document.querySelector('#df-b566aa8f-b815-4b74-ab55-01bdd06dbb32 button.colab-df-convert');\n",
       "        buttonEl.style.display =\n",
       "          google.colab.kernel.accessAllowed ? 'block' : 'none';\n",
       "\n",
       "        async function convertToInteractive(key) {\n",
       "          const element = document.querySelector('#df-b566aa8f-b815-4b74-ab55-01bdd06dbb32');\n",
       "          const dataTable =\n",
       "            await google.colab.kernel.invokeFunction('convertToInteractive',\n",
       "                                                     [key], {});\n",
       "          if (!dataTable) return;\n",
       "\n",
       "          const docLinkHtml = 'Like what you see? Visit the ' +\n",
       "            '<a target=\"_blank\" href=https://colab.research.google.com/notebooks/data_table.ipynb>data table notebook</a>'\n",
       "            + ' to learn more about interactive tables.';\n",
       "          element.innerHTML = '';\n",
       "          dataTable['output_type'] = 'display_data';\n",
       "          await google.colab.output.renderOutput(dataTable, element);\n",
       "          const docLink = document.createElement('div');\n",
       "          docLink.innerHTML = docLinkHtml;\n",
       "          element.appendChild(docLink);\n",
       "        }\n",
       "      </script>\n",
       "    </div>\n",
       "  </div>\n"
      ],
      "text/plain": [
       "                  Open        High         Low       Close   Adj Close  \\\n",
       "Date                                                                     \n",
       "2023-07-05  421.350006  431.769989  420.850006  423.170013  423.170013   \n",
       "2023-07-06  418.440002  421.790009  413.459991  421.029999  421.029999   \n",
       "2023-07-07  423.220001  432.140015  421.799988  425.029999  425.029999   \n",
       "2023-07-10  426.570007  428.109985  416.489990  421.799988  421.799988   \n",
       "2023-07-11  424.809998  427.579987  420.670013  424.049988  424.049988   \n",
       "\n",
       "              Volume  \n",
       "Date                  \n",
       "2023-07-05  32361800  \n",
       "2023-07-06  30358200  \n",
       "2023-07-07  35525300  \n",
       "2023-07-10  35390800  \n",
       "2023-07-11  29777500  "
      ]
     },
     "execution_count": 49,
     "metadata": {},
     "output_type": "execute_result"
    }
   ],
   "source": [
    "stock_df.tail()"
   ]
  },
  {
   "cell_type": "markdown",
   "metadata": {
    "id": "mH_j1PZsszbc"
   },
   "source": [
    "We have to preprocess the data before feeding it into a model. We begin by seperating the data into attributes (x_data) and target (y_data). We then scale the data to make calculations easier and to avoid outliers and large numbers skewing the bias of the model."
   ]
  },
  {
   "cell_type": "code",
   "execution_count": null,
   "metadata": {
    "colab": {
     "base_uri": "https://localhost:8080/",
     "height": 237
    },
    "executionInfo": {
     "elapsed": 10,
     "status": "ok",
     "timestamp": 1690841217579,
     "user": {
      "displayName": "Clay Roberts",
      "userId": "15262378552571056378"
     },
     "user_tz": 300
    },
    "id": "cPOjC1A3lEga",
    "outputId": "ec982c6c-3fbc-4bc8-e78e-fa25a9696e89"
   },
   "outputs": [
    {
     "data": {
      "text/html": [
       "\n",
       "\n",
       "  <div id=\"df-0eb357c1-18fa-4d88-a16f-f839b08b73e4\">\n",
       "    <div class=\"colab-df-container\">\n",
       "      <div>\n",
       "<style scoped>\n",
       "    .dataframe tbody tr th:only-of-type {\n",
       "        vertical-align: middle;\n",
       "    }\n",
       "\n",
       "    .dataframe tbody tr th {\n",
       "        vertical-align: top;\n",
       "    }\n",
       "\n",
       "    .dataframe thead th {\n",
       "        text-align: right;\n",
       "    }\n",
       "</style>\n",
       "<table border=\"1\" class=\"dataframe\">\n",
       "  <thead>\n",
       "    <tr style=\"text-align: right;\">\n",
       "      <th></th>\n",
       "      <th>Open</th>\n",
       "      <th>High</th>\n",
       "      <th>Low</th>\n",
       "      <th>Close</th>\n",
       "    </tr>\n",
       "    <tr>\n",
       "      <th>Date</th>\n",
       "      <th></th>\n",
       "      <th></th>\n",
       "      <th></th>\n",
       "      <th></th>\n",
       "    </tr>\n",
       "  </thead>\n",
       "  <tbody>\n",
       "    <tr>\n",
       "      <th>1999-01-22</th>\n",
       "      <td>-0.498255</td>\n",
       "      <td>-0.497294</td>\n",
       "      <td>-0.499170</td>\n",
       "      <td>0.410156</td>\n",
       "    </tr>\n",
       "    <tr>\n",
       "      <th>1999-01-25</th>\n",
       "      <td>-0.498178</td>\n",
       "      <td>-0.497728</td>\n",
       "      <td>-0.498835</td>\n",
       "      <td>0.453125</td>\n",
       "    </tr>\n",
       "    <tr>\n",
       "      <th>1999-01-26</th>\n",
       "      <td>-0.497946</td>\n",
       "      <td>-0.497596</td>\n",
       "      <td>-0.498816</td>\n",
       "      <td>0.417969</td>\n",
       "    </tr>\n",
       "    <tr>\n",
       "      <th>1999-01-27</th>\n",
       "      <td>-0.498524</td>\n",
       "      <td>-0.498144</td>\n",
       "      <td>-0.499052</td>\n",
       "      <td>0.416667</td>\n",
       "    </tr>\n",
       "    <tr>\n",
       "      <th>1999-01-28</th>\n",
       "      <td>-0.498563</td>\n",
       "      <td>-0.498295</td>\n",
       "      <td>-0.498796</td>\n",
       "      <td>0.415365</td>\n",
       "    </tr>\n",
       "  </tbody>\n",
       "</table>\n",
       "</div>\n",
       "      <button class=\"colab-df-convert\" onclick=\"convertToInteractive('df-0eb357c1-18fa-4d88-a16f-f839b08b73e4')\"\n",
       "              title=\"Convert this dataframe to an interactive table.\"\n",
       "              style=\"display:none;\">\n",
       "\n",
       "  <svg xmlns=\"http://www.w3.org/2000/svg\" height=\"24px\"viewBox=\"0 0 24 24\"\n",
       "       width=\"24px\">\n",
       "    <path d=\"M0 0h24v24H0V0z\" fill=\"none\"/>\n",
       "    <path d=\"M18.56 5.44l.94 2.06.94-2.06 2.06-.94-2.06-.94-.94-2.06-.94 2.06-2.06.94zm-11 1L8.5 8.5l.94-2.06 2.06-.94-2.06-.94L8.5 2.5l-.94 2.06-2.06.94zm10 10l.94 2.06.94-2.06 2.06-.94-2.06-.94-.94-2.06-.94 2.06-2.06.94z\"/><path d=\"M17.41 7.96l-1.37-1.37c-.4-.4-.92-.59-1.43-.59-.52 0-1.04.2-1.43.59L10.3 9.45l-7.72 7.72c-.78.78-.78 2.05 0 2.83L4 21.41c.39.39.9.59 1.41.59.51 0 1.02-.2 1.41-.59l7.78-7.78 2.81-2.81c.8-.78.8-2.07 0-2.86zM5.41 20L4 18.59l7.72-7.72 1.47 1.35L5.41 20z\"/>\n",
       "  </svg>\n",
       "      </button>\n",
       "\n",
       "\n",
       "\n",
       "    <div id=\"df-498ca288-ff0d-428b-8efd-1c662d6a31fc\">\n",
       "      <button class=\"colab-df-quickchart\" onclick=\"quickchart('df-498ca288-ff0d-428b-8efd-1c662d6a31fc')\"\n",
       "              title=\"Suggest charts.\"\n",
       "              style=\"display:none;\">\n",
       "\n",
       "<svg xmlns=\"http://www.w3.org/2000/svg\" height=\"24px\"viewBox=\"0 0 24 24\"\n",
       "     width=\"24px\">\n",
       "    <g>\n",
       "        <path d=\"M19 3H5c-1.1 0-2 .9-2 2v14c0 1.1.9 2 2 2h14c1.1 0 2-.9 2-2V5c0-1.1-.9-2-2-2zM9 17H7v-7h2v7zm4 0h-2V7h2v10zm4 0h-2v-4h2v4z\"/>\n",
       "    </g>\n",
       "</svg>\n",
       "      </button>\n",
       "    </div>\n",
       "\n",
       "<style>\n",
       "  .colab-df-quickchart {\n",
       "    background-color: #E8F0FE;\n",
       "    border: none;\n",
       "    border-radius: 50%;\n",
       "    cursor: pointer;\n",
       "    display: none;\n",
       "    fill: #1967D2;\n",
       "    height: 32px;\n",
       "    padding: 0 0 0 0;\n",
       "    width: 32px;\n",
       "  }\n",
       "\n",
       "  .colab-df-quickchart:hover {\n",
       "    background-color: #E2EBFA;\n",
       "    box-shadow: 0px 1px 2px rgba(60, 64, 67, 0.3), 0px 1px 3px 1px rgba(60, 64, 67, 0.15);\n",
       "    fill: #174EA6;\n",
       "  }\n",
       "\n",
       "  [theme=dark] .colab-df-quickchart {\n",
       "    background-color: #3B4455;\n",
       "    fill: #D2E3FC;\n",
       "  }\n",
       "\n",
       "  [theme=dark] .colab-df-quickchart:hover {\n",
       "    background-color: #434B5C;\n",
       "    box-shadow: 0px 1px 3px 1px rgba(0, 0, 0, 0.15);\n",
       "    filter: drop-shadow(0px 1px 2px rgba(0, 0, 0, 0.3));\n",
       "    fill: #FFFFFF;\n",
       "  }\n",
       "</style>\n",
       "\n",
       "    <script>\n",
       "      async function quickchart(key) {\n",
       "        const containerElement = document.querySelector('#' + key);\n",
       "        const charts = await google.colab.kernel.invokeFunction(\n",
       "            'suggestCharts', [key], {});\n",
       "      }\n",
       "    </script>\n",
       "\n",
       "      <script>\n",
       "\n",
       "function displayQuickchartButton(domScope) {\n",
       "  let quickchartButtonEl =\n",
       "    domScope.querySelector('#df-498ca288-ff0d-428b-8efd-1c662d6a31fc button.colab-df-quickchart');\n",
       "  quickchartButtonEl.style.display =\n",
       "    google.colab.kernel.accessAllowed ? 'block' : 'none';\n",
       "}\n",
       "\n",
       "        displayQuickchartButton(document);\n",
       "      </script>\n",
       "      <style>\n",
       "    .colab-df-container {\n",
       "      display:flex;\n",
       "      flex-wrap:wrap;\n",
       "      gap: 12px;\n",
       "    }\n",
       "\n",
       "    .colab-df-convert {\n",
       "      background-color: #E8F0FE;\n",
       "      border: none;\n",
       "      border-radius: 50%;\n",
       "      cursor: pointer;\n",
       "      display: none;\n",
       "      fill: #1967D2;\n",
       "      height: 32px;\n",
       "      padding: 0 0 0 0;\n",
       "      width: 32px;\n",
       "    }\n",
       "\n",
       "    .colab-df-convert:hover {\n",
       "      background-color: #E2EBFA;\n",
       "      box-shadow: 0px 1px 2px rgba(60, 64, 67, 0.3), 0px 1px 3px 1px rgba(60, 64, 67, 0.15);\n",
       "      fill: #174EA6;\n",
       "    }\n",
       "\n",
       "    [theme=dark] .colab-df-convert {\n",
       "      background-color: #3B4455;\n",
       "      fill: #D2E3FC;\n",
       "    }\n",
       "\n",
       "    [theme=dark] .colab-df-convert:hover {\n",
       "      background-color: #434B5C;\n",
       "      box-shadow: 0px 1px 3px 1px rgba(0, 0, 0, 0.15);\n",
       "      filter: drop-shadow(0px 1px 2px rgba(0, 0, 0, 0.3));\n",
       "      fill: #FFFFFF;\n",
       "    }\n",
       "  </style>\n",
       "\n",
       "      <script>\n",
       "        const buttonEl =\n",
       "          document.querySelector('#df-0eb357c1-18fa-4d88-a16f-f839b08b73e4 button.colab-df-convert');\n",
       "        buttonEl.style.display =\n",
       "          google.colab.kernel.accessAllowed ? 'block' : 'none';\n",
       "\n",
       "        async function convertToInteractive(key) {\n",
       "          const element = document.querySelector('#df-0eb357c1-18fa-4d88-a16f-f839b08b73e4');\n",
       "          const dataTable =\n",
       "            await google.colab.kernel.invokeFunction('convertToInteractive',\n",
       "                                                     [key], {});\n",
       "          if (!dataTable) return;\n",
       "\n",
       "          const docLinkHtml = 'Like what you see? Visit the ' +\n",
       "            '<a target=\"_blank\" href=https://colab.research.google.com/notebooks/data_table.ipynb>data table notebook</a>'\n",
       "            + ' to learn more about interactive tables.';\n",
       "          element.innerHTML = '';\n",
       "          dataTable['output_type'] = 'display_data';\n",
       "          await google.colab.output.renderOutput(dataTable, element);\n",
       "          const docLink = document.createElement('div');\n",
       "          docLink.innerHTML = docLinkHtml;\n",
       "          element.appendChild(docLink);\n",
       "        }\n",
       "      </script>\n",
       "    </div>\n",
       "  </div>\n"
      ],
      "text/plain": [
       "                Open      High       Low     Close\n",
       "Date                                              \n",
       "1999-01-22 -0.498255 -0.497294 -0.499170  0.410156\n",
       "1999-01-25 -0.498178 -0.497728 -0.498835  0.453125\n",
       "1999-01-26 -0.497946 -0.497596 -0.498816  0.417969\n",
       "1999-01-27 -0.498524 -0.498144 -0.499052  0.416667\n",
       "1999-01-28 -0.498563 -0.498295 -0.498796  0.415365"
      ]
     },
     "execution_count": 50,
     "metadata": {},
     "output_type": "execute_result"
    }
   ],
   "source": [
    "x_data = stock_df.iloc[:, 0:3]\n",
    "y_data =stock_df['Close']\n",
    "sc = StandardScaler()\n",
    "\n",
    "x_fit = sc.fit_transform(x_data.values)\n",
    "x_fit = pd.DataFrame(columns=x_data.columns,\n",
    "                     data=x_fit,\n",
    "                     index=x_data.index)\n",
    "# x_fit.head()\n",
    "# y_arr = y_data.values\n",
    "# y_arr = np.array(y_arr)\n",
    "# y_arr = y_arr.reshape(-1, 1)\n",
    "\n",
    "# y_fit = sc.fit_transform(y_arr)\n",
    "\n",
    "stock_fit_df = x_fit\n",
    "stock_fit_df['Close'] = y_data\n",
    "stock_fit_df.head()"
   ]
  },
  {
   "cell_type": "code",
   "execution_count": null,
   "metadata": {
    "colab": {
     "base_uri": "https://localhost:8080/",
     "height": 237
    },
    "executionInfo": {
     "elapsed": 23,
     "status": "ok",
     "timestamp": 1690841217807,
     "user": {
      "displayName": "Clay Roberts",
      "userId": "15262378552571056378"
     },
     "user_tz": 300
    },
    "id": "GKf47Ev2Hprf",
    "outputId": "2d4085c4-8dd7-4c84-cf9f-fec7979fdfbf"
   },
   "outputs": [
    {
     "data": {
      "text/html": [
       "\n",
       "\n",
       "  <div id=\"df-ffa6a1d6-2510-44e0-87e2-da684d49884f\">\n",
       "    <div class=\"colab-df-container\">\n",
       "      <div>\n",
       "<style scoped>\n",
       "    .dataframe tbody tr th:only-of-type {\n",
       "        vertical-align: middle;\n",
       "    }\n",
       "\n",
       "    .dataframe tbody tr th {\n",
       "        vertical-align: top;\n",
       "    }\n",
       "\n",
       "    .dataframe thead th {\n",
       "        text-align: right;\n",
       "    }\n",
       "</style>\n",
       "<table border=\"1\" class=\"dataframe\">\n",
       "  <thead>\n",
       "    <tr style=\"text-align: right;\">\n",
       "      <th></th>\n",
       "      <th>Open</th>\n",
       "      <th>High</th>\n",
       "      <th>Low</th>\n",
       "      <th>Close</th>\n",
       "    </tr>\n",
       "    <tr>\n",
       "      <th>Date</th>\n",
       "      <th></th>\n",
       "      <th></th>\n",
       "      <th></th>\n",
       "      <th></th>\n",
       "    </tr>\n",
       "  </thead>\n",
       "  <tbody>\n",
       "    <tr>\n",
       "      <th>2023-07-05</th>\n",
       "      <td>5.729300</td>\n",
       "      <td>5.759728</td>\n",
       "      <td>5.848512</td>\n",
       "      <td>423.170013</td>\n",
       "    </tr>\n",
       "    <tr>\n",
       "      <th>2023-07-06</th>\n",
       "      <td>5.686245</td>\n",
       "      <td>5.614939</td>\n",
       "      <td>5.736946</td>\n",
       "      <td>421.029999</td>\n",
       "    </tr>\n",
       "    <tr>\n",
       "      <th>2023-07-07</th>\n",
       "      <td>5.756967</td>\n",
       "      <td>5.765097</td>\n",
       "      <td>5.862854</td>\n",
       "      <td>425.029999</td>\n",
       "    </tr>\n",
       "    <tr>\n",
       "      <th>2023-07-10</th>\n",
       "      <td>5.806531</td>\n",
       "      <td>5.706629</td>\n",
       "      <td>5.782690</td>\n",
       "      <td>421.799988</td>\n",
       "    </tr>\n",
       "    <tr>\n",
       "      <th>2023-07-11</th>\n",
       "      <td>5.780491</td>\n",
       "      <td>5.698940</td>\n",
       "      <td>5.845795</td>\n",
       "      <td>424.049988</td>\n",
       "    </tr>\n",
       "  </tbody>\n",
       "</table>\n",
       "</div>\n",
       "      <button class=\"colab-df-convert\" onclick=\"convertToInteractive('df-ffa6a1d6-2510-44e0-87e2-da684d49884f')\"\n",
       "              title=\"Convert this dataframe to an interactive table.\"\n",
       "              style=\"display:none;\">\n",
       "\n",
       "  <svg xmlns=\"http://www.w3.org/2000/svg\" height=\"24px\"viewBox=\"0 0 24 24\"\n",
       "       width=\"24px\">\n",
       "    <path d=\"M0 0h24v24H0V0z\" fill=\"none\"/>\n",
       "    <path d=\"M18.56 5.44l.94 2.06.94-2.06 2.06-.94-2.06-.94-.94-2.06-.94 2.06-2.06.94zm-11 1L8.5 8.5l.94-2.06 2.06-.94-2.06-.94L8.5 2.5l-.94 2.06-2.06.94zm10 10l.94 2.06.94-2.06 2.06-.94-2.06-.94-.94-2.06-.94 2.06-2.06.94z\"/><path d=\"M17.41 7.96l-1.37-1.37c-.4-.4-.92-.59-1.43-.59-.52 0-1.04.2-1.43.59L10.3 9.45l-7.72 7.72c-.78.78-.78 2.05 0 2.83L4 21.41c.39.39.9.59 1.41.59.51 0 1.02-.2 1.41-.59l7.78-7.78 2.81-2.81c.8-.78.8-2.07 0-2.86zM5.41 20L4 18.59l7.72-7.72 1.47 1.35L5.41 20z\"/>\n",
       "  </svg>\n",
       "      </button>\n",
       "\n",
       "\n",
       "\n",
       "    <div id=\"df-bc10186f-5482-4166-8440-70936ac24ec9\">\n",
       "      <button class=\"colab-df-quickchart\" onclick=\"quickchart('df-bc10186f-5482-4166-8440-70936ac24ec9')\"\n",
       "              title=\"Suggest charts.\"\n",
       "              style=\"display:none;\">\n",
       "\n",
       "<svg xmlns=\"http://www.w3.org/2000/svg\" height=\"24px\"viewBox=\"0 0 24 24\"\n",
       "     width=\"24px\">\n",
       "    <g>\n",
       "        <path d=\"M19 3H5c-1.1 0-2 .9-2 2v14c0 1.1.9 2 2 2h14c1.1 0 2-.9 2-2V5c0-1.1-.9-2-2-2zM9 17H7v-7h2v7zm4 0h-2V7h2v10zm4 0h-2v-4h2v4z\"/>\n",
       "    </g>\n",
       "</svg>\n",
       "      </button>\n",
       "    </div>\n",
       "\n",
       "<style>\n",
       "  .colab-df-quickchart {\n",
       "    background-color: #E8F0FE;\n",
       "    border: none;\n",
       "    border-radius: 50%;\n",
       "    cursor: pointer;\n",
       "    display: none;\n",
       "    fill: #1967D2;\n",
       "    height: 32px;\n",
       "    padding: 0 0 0 0;\n",
       "    width: 32px;\n",
       "  }\n",
       "\n",
       "  .colab-df-quickchart:hover {\n",
       "    background-color: #E2EBFA;\n",
       "    box-shadow: 0px 1px 2px rgba(60, 64, 67, 0.3), 0px 1px 3px 1px rgba(60, 64, 67, 0.15);\n",
       "    fill: #174EA6;\n",
       "  }\n",
       "\n",
       "  [theme=dark] .colab-df-quickchart {\n",
       "    background-color: #3B4455;\n",
       "    fill: #D2E3FC;\n",
       "  }\n",
       "\n",
       "  [theme=dark] .colab-df-quickchart:hover {\n",
       "    background-color: #434B5C;\n",
       "    box-shadow: 0px 1px 3px 1px rgba(0, 0, 0, 0.15);\n",
       "    filter: drop-shadow(0px 1px 2px rgba(0, 0, 0, 0.3));\n",
       "    fill: #FFFFFF;\n",
       "  }\n",
       "</style>\n",
       "\n",
       "    <script>\n",
       "      async function quickchart(key) {\n",
       "        const containerElement = document.querySelector('#' + key);\n",
       "        const charts = await google.colab.kernel.invokeFunction(\n",
       "            'suggestCharts', [key], {});\n",
       "      }\n",
       "    </script>\n",
       "\n",
       "      <script>\n",
       "\n",
       "function displayQuickchartButton(domScope) {\n",
       "  let quickchartButtonEl =\n",
       "    domScope.querySelector('#df-bc10186f-5482-4166-8440-70936ac24ec9 button.colab-df-quickchart');\n",
       "  quickchartButtonEl.style.display =\n",
       "    google.colab.kernel.accessAllowed ? 'block' : 'none';\n",
       "}\n",
       "\n",
       "        displayQuickchartButton(document);\n",
       "      </script>\n",
       "      <style>\n",
       "    .colab-df-container {\n",
       "      display:flex;\n",
       "      flex-wrap:wrap;\n",
       "      gap: 12px;\n",
       "    }\n",
       "\n",
       "    .colab-df-convert {\n",
       "      background-color: #E8F0FE;\n",
       "      border: none;\n",
       "      border-radius: 50%;\n",
       "      cursor: pointer;\n",
       "      display: none;\n",
       "      fill: #1967D2;\n",
       "      height: 32px;\n",
       "      padding: 0 0 0 0;\n",
       "      width: 32px;\n",
       "    }\n",
       "\n",
       "    .colab-df-convert:hover {\n",
       "      background-color: #E2EBFA;\n",
       "      box-shadow: 0px 1px 2px rgba(60, 64, 67, 0.3), 0px 1px 3px 1px rgba(60, 64, 67, 0.15);\n",
       "      fill: #174EA6;\n",
       "    }\n",
       "\n",
       "    [theme=dark] .colab-df-convert {\n",
       "      background-color: #3B4455;\n",
       "      fill: #D2E3FC;\n",
       "    }\n",
       "\n",
       "    [theme=dark] .colab-df-convert:hover {\n",
       "      background-color: #434B5C;\n",
       "      box-shadow: 0px 1px 3px 1px rgba(0, 0, 0, 0.15);\n",
       "      filter: drop-shadow(0px 1px 2px rgba(0, 0, 0, 0.3));\n",
       "      fill: #FFFFFF;\n",
       "    }\n",
       "  </style>\n",
       "\n",
       "      <script>\n",
       "        const buttonEl =\n",
       "          document.querySelector('#df-ffa6a1d6-2510-44e0-87e2-da684d49884f button.colab-df-convert');\n",
       "        buttonEl.style.display =\n",
       "          google.colab.kernel.accessAllowed ? 'block' : 'none';\n",
       "\n",
       "        async function convertToInteractive(key) {\n",
       "          const element = document.querySelector('#df-ffa6a1d6-2510-44e0-87e2-da684d49884f');\n",
       "          const dataTable =\n",
       "            await google.colab.kernel.invokeFunction('convertToInteractive',\n",
       "                                                     [key], {});\n",
       "          if (!dataTable) return;\n",
       "\n",
       "          const docLinkHtml = 'Like what you see? Visit the ' +\n",
       "            '<a target=\"_blank\" href=https://colab.research.google.com/notebooks/data_table.ipynb>data table notebook</a>'\n",
       "            + ' to learn more about interactive tables.';\n",
       "          element.innerHTML = '';\n",
       "          dataTable['output_type'] = 'display_data';\n",
       "          await google.colab.output.renderOutput(dataTable, element);\n",
       "          const docLink = document.createElement('div');\n",
       "          docLink.innerHTML = docLinkHtml;\n",
       "          element.appendChild(docLink);\n",
       "        }\n",
       "      </script>\n",
       "    </div>\n",
       "  </div>\n"
      ],
      "text/plain": [
       "                Open      High       Low       Close\n",
       "Date                                                \n",
       "2023-07-05  5.729300  5.759728  5.848512  423.170013\n",
       "2023-07-06  5.686245  5.614939  5.736946  421.029999\n",
       "2023-07-07  5.756967  5.765097  5.862854  425.029999\n",
       "2023-07-10  5.806531  5.706629  5.782690  421.799988\n",
       "2023-07-11  5.780491  5.698940  5.845795  424.049988"
      ]
     },
     "execution_count": 51,
     "metadata": {},
     "output_type": "execute_result"
    }
   ],
   "source": [
    "stock_fit_df.tail()"
   ]
  },
  {
   "cell_type": "markdown",
   "metadata": {
    "id": "FUAbV8ysta1k"
   },
   "source": [
    "We then create a function called lstm_split to create windows of size n that will take n-1 samples of data and then use those samples to predict the nth sample. The n-1 belong to the 'x' and the nth belongs to 'y'."
   ]
  },
  {
   "cell_type": "code",
   "execution_count": null,
   "metadata": {
    "id": "0xe25srnqxsm"
   },
   "outputs": [],
   "source": [
    "def lstm_split(data, n_steps):\n",
    "  x = []\n",
    "  y = []\n",
    "  for i in range(len(data) - n_steps + 1):\n",
    "    x.append(data[i:i + n_steps, :-1])\n",
    "    y.append(data[i + n_steps - 1, -1])\n",
    "\n",
    "  return np.array(x), np.array(y)"
   ]
  },
  {
   "cell_type": "markdown",
   "metadata": {
    "id": "JotUmeR9C0nw"
   },
   "source": [
    "Next, we split our data into the training and testing sets. We start by taking n_steps = 2 which means we use two previous days to predict the third day. x1 is 1 smaller than the original x_data because you cannot use the last two days to predict anything because we wouldnt have the third day \"true\" value to compare the prediction to."
   ]
  },
  {
   "cell_type": "code",
   "execution_count": null,
   "metadata": {
    "colab": {
     "base_uri": "https://localhost:8080/"
    },
    "executionInfo": {
     "elapsed": 147,
     "status": "ok",
     "timestamp": 1690842134278,
     "user": {
      "displayName": "Clay Roberts",
      "userId": "15262378552571056378"
     },
     "user_tz": 300
    },
    "id": "S4d0RZE4sJwr",
    "outputId": "a685a4d9-e0e7-408e-f574-41f3629ec593"
   },
   "outputs": [
    {
     "name": "stdout",
     "output_type": "stream",
     "text": [
      "(6156, 3)\n",
      "(6155, 2, 3) (4924, 2, 3) (1231, 2, 3) (1231,)\n",
      "[[-0.49794643 -0.49759622 -0.4988157 ]\n",
      " [-0.49852437 -0.49814404 -0.49905159]]\n"
     ]
    }
   ],
   "source": [
    "x1, y1 = lstm_split(stock_fit_df.values, n_steps = 2)\n",
    "\n",
    "train_split = 0.8\n",
    "split_index = int(np.ceil(len(x1) * train_split))\n",
    "date_index = stock_df.index\n",
    "\n",
    "x_train, x_test = x1[:split_index], x1[split_index:]\n",
    "y_train, y_test = y1[:split_index], y1[split_index:]\n",
    "x_train_date, x_test_date = date_index[:split_index], date_index[split_index:]\n",
    "\n",
    "print(x_data.shape)\n",
    "print(x1.shape, x_train.shape, x_test.shape, y_test.shape)\n",
    "# print(x_train[1])\n",
    "print(x_train[2])"
   ]
  },
  {
   "cell_type": "code",
   "execution_count": null,
   "metadata": {
    "colab": {
     "base_uri": "https://localhost:8080/"
    },
    "executionInfo": {
     "elapsed": 19,
     "status": "ok",
     "timestamp": 1690841217809,
     "user": {
      "displayName": "Clay Roberts",
      "userId": "15262378552571056378"
     },
     "user_tz": 300
    },
    "id": "id-BnozQHHPS",
    "outputId": "59a46f10-d47c-49b6-cb1f-63a3212dcfbe"
   },
   "outputs": [
    {
     "name": "stdout",
     "output_type": "stream",
     "text": [
      "[[5.75696685 5.7650965  5.86285423]\n",
      " [5.80653141 5.70662895 5.7826896 ]]\n"
     ]
    }
   ],
   "source": [
    "print(x1[-2])"
   ]
  },
  {
   "cell_type": "code",
   "execution_count": null,
   "metadata": {
    "colab": {
     "base_uri": "https://localhost:8080/",
     "height": 255
    },
    "executionInfo": {
     "elapsed": 16,
     "status": "ok",
     "timestamp": 1690841217809,
     "user": {
      "displayName": "Clay Roberts",
      "userId": "15262378552571056378"
     },
     "user_tz": 300
    },
    "id": "VPTB-R76TU_S",
    "outputId": "b2fe0267-b24d-4310-efa0-49e021840936"
   },
   "outputs": [
    {
     "name": "stdout",
     "output_type": "stream",
     "text": [
      "[ 0.453125  0.417969  0.416667 ... 65.357498 64.769997 64.360001]\n"
     ]
    },
    {
     "data": {
      "text/html": [
       "\n",
       "\n",
       "  <div id=\"df-cae62c6a-784c-4cd5-affe-254a7ec8525d\">\n",
       "    <div class=\"colab-df-container\">\n",
       "      <div>\n",
       "<style scoped>\n",
       "    .dataframe tbody tr th:only-of-type {\n",
       "        vertical-align: middle;\n",
       "    }\n",
       "\n",
       "    .dataframe tbody tr th {\n",
       "        vertical-align: top;\n",
       "    }\n",
       "\n",
       "    .dataframe thead th {\n",
       "        text-align: right;\n",
       "    }\n",
       "</style>\n",
       "<table border=\"1\" class=\"dataframe\">\n",
       "  <thead>\n",
       "    <tr style=\"text-align: right;\">\n",
       "      <th></th>\n",
       "      <th>Open</th>\n",
       "      <th>High</th>\n",
       "      <th>Low</th>\n",
       "      <th>Close</th>\n",
       "    </tr>\n",
       "    <tr>\n",
       "      <th>Date</th>\n",
       "      <th></th>\n",
       "      <th></th>\n",
       "      <th></th>\n",
       "      <th></th>\n",
       "    </tr>\n",
       "  </thead>\n",
       "  <tbody>\n",
       "    <tr>\n",
       "      <th>1999-01-22</th>\n",
       "      <td>-0.498255</td>\n",
       "      <td>-0.497294</td>\n",
       "      <td>-0.499170</td>\n",
       "      <td>0.410156</td>\n",
       "    </tr>\n",
       "    <tr>\n",
       "      <th>1999-01-25</th>\n",
       "      <td>-0.498178</td>\n",
       "      <td>-0.497728</td>\n",
       "      <td>-0.498835</td>\n",
       "      <td>0.453125</td>\n",
       "    </tr>\n",
       "    <tr>\n",
       "      <th>1999-01-26</th>\n",
       "      <td>-0.497946</td>\n",
       "      <td>-0.497596</td>\n",
       "      <td>-0.498816</td>\n",
       "      <td>0.417969</td>\n",
       "    </tr>\n",
       "    <tr>\n",
       "      <th>1999-01-27</th>\n",
       "      <td>-0.498524</td>\n",
       "      <td>-0.498144</td>\n",
       "      <td>-0.499052</td>\n",
       "      <td>0.416667</td>\n",
       "    </tr>\n",
       "    <tr>\n",
       "      <th>1999-01-28</th>\n",
       "      <td>-0.498563</td>\n",
       "      <td>-0.498295</td>\n",
       "      <td>-0.498796</td>\n",
       "      <td>0.415365</td>\n",
       "    </tr>\n",
       "  </tbody>\n",
       "</table>\n",
       "</div>\n",
       "      <button class=\"colab-df-convert\" onclick=\"convertToInteractive('df-cae62c6a-784c-4cd5-affe-254a7ec8525d')\"\n",
       "              title=\"Convert this dataframe to an interactive table.\"\n",
       "              style=\"display:none;\">\n",
       "\n",
       "  <svg xmlns=\"http://www.w3.org/2000/svg\" height=\"24px\"viewBox=\"0 0 24 24\"\n",
       "       width=\"24px\">\n",
       "    <path d=\"M0 0h24v24H0V0z\" fill=\"none\"/>\n",
       "    <path d=\"M18.56 5.44l.94 2.06.94-2.06 2.06-.94-2.06-.94-.94-2.06-.94 2.06-2.06.94zm-11 1L8.5 8.5l.94-2.06 2.06-.94-2.06-.94L8.5 2.5l-.94 2.06-2.06.94zm10 10l.94 2.06.94-2.06 2.06-.94-2.06-.94-.94-2.06-.94 2.06-2.06.94z\"/><path d=\"M17.41 7.96l-1.37-1.37c-.4-.4-.92-.59-1.43-.59-.52 0-1.04.2-1.43.59L10.3 9.45l-7.72 7.72c-.78.78-.78 2.05 0 2.83L4 21.41c.39.39.9.59 1.41.59.51 0 1.02-.2 1.41-.59l7.78-7.78 2.81-2.81c.8-.78.8-2.07 0-2.86zM5.41 20L4 18.59l7.72-7.72 1.47 1.35L5.41 20z\"/>\n",
       "  </svg>\n",
       "      </button>\n",
       "\n",
       "\n",
       "\n",
       "    <div id=\"df-e3248d64-cb5a-4fdf-a438-c616d2d60a73\">\n",
       "      <button class=\"colab-df-quickchart\" onclick=\"quickchart('df-e3248d64-cb5a-4fdf-a438-c616d2d60a73')\"\n",
       "              title=\"Suggest charts.\"\n",
       "              style=\"display:none;\">\n",
       "\n",
       "<svg xmlns=\"http://www.w3.org/2000/svg\" height=\"24px\"viewBox=\"0 0 24 24\"\n",
       "     width=\"24px\">\n",
       "    <g>\n",
       "        <path d=\"M19 3H5c-1.1 0-2 .9-2 2v14c0 1.1.9 2 2 2h14c1.1 0 2-.9 2-2V5c0-1.1-.9-2-2-2zM9 17H7v-7h2v7zm4 0h-2V7h2v10zm4 0h-2v-4h2v4z\"/>\n",
       "    </g>\n",
       "</svg>\n",
       "      </button>\n",
       "    </div>\n",
       "\n",
       "<style>\n",
       "  .colab-df-quickchart {\n",
       "    background-color: #E8F0FE;\n",
       "    border: none;\n",
       "    border-radius: 50%;\n",
       "    cursor: pointer;\n",
       "    display: none;\n",
       "    fill: #1967D2;\n",
       "    height: 32px;\n",
       "    padding: 0 0 0 0;\n",
       "    width: 32px;\n",
       "  }\n",
       "\n",
       "  .colab-df-quickchart:hover {\n",
       "    background-color: #E2EBFA;\n",
       "    box-shadow: 0px 1px 2px rgba(60, 64, 67, 0.3), 0px 1px 3px 1px rgba(60, 64, 67, 0.15);\n",
       "    fill: #174EA6;\n",
       "  }\n",
       "\n",
       "  [theme=dark] .colab-df-quickchart {\n",
       "    background-color: #3B4455;\n",
       "    fill: #D2E3FC;\n",
       "  }\n",
       "\n",
       "  [theme=dark] .colab-df-quickchart:hover {\n",
       "    background-color: #434B5C;\n",
       "    box-shadow: 0px 1px 3px 1px rgba(0, 0, 0, 0.15);\n",
       "    filter: drop-shadow(0px 1px 2px rgba(0, 0, 0, 0.3));\n",
       "    fill: #FFFFFF;\n",
       "  }\n",
       "</style>\n",
       "\n",
       "    <script>\n",
       "      async function quickchart(key) {\n",
       "        const containerElement = document.querySelector('#' + key);\n",
       "        const charts = await google.colab.kernel.invokeFunction(\n",
       "            'suggestCharts', [key], {});\n",
       "      }\n",
       "    </script>\n",
       "\n",
       "      <script>\n",
       "\n",
       "function displayQuickchartButton(domScope) {\n",
       "  let quickchartButtonEl =\n",
       "    domScope.querySelector('#df-e3248d64-cb5a-4fdf-a438-c616d2d60a73 button.colab-df-quickchart');\n",
       "  quickchartButtonEl.style.display =\n",
       "    google.colab.kernel.accessAllowed ? 'block' : 'none';\n",
       "}\n",
       "\n",
       "        displayQuickchartButton(document);\n",
       "      </script>\n",
       "      <style>\n",
       "    .colab-df-container {\n",
       "      display:flex;\n",
       "      flex-wrap:wrap;\n",
       "      gap: 12px;\n",
       "    }\n",
       "\n",
       "    .colab-df-convert {\n",
       "      background-color: #E8F0FE;\n",
       "      border: none;\n",
       "      border-radius: 50%;\n",
       "      cursor: pointer;\n",
       "      display: none;\n",
       "      fill: #1967D2;\n",
       "      height: 32px;\n",
       "      padding: 0 0 0 0;\n",
       "      width: 32px;\n",
       "    }\n",
       "\n",
       "    .colab-df-convert:hover {\n",
       "      background-color: #E2EBFA;\n",
       "      box-shadow: 0px 1px 2px rgba(60, 64, 67, 0.3), 0px 1px 3px 1px rgba(60, 64, 67, 0.15);\n",
       "      fill: #174EA6;\n",
       "    }\n",
       "\n",
       "    [theme=dark] .colab-df-convert {\n",
       "      background-color: #3B4455;\n",
       "      fill: #D2E3FC;\n",
       "    }\n",
       "\n",
       "    [theme=dark] .colab-df-convert:hover {\n",
       "      background-color: #434B5C;\n",
       "      box-shadow: 0px 1px 3px 1px rgba(0, 0, 0, 0.15);\n",
       "      filter: drop-shadow(0px 1px 2px rgba(0, 0, 0, 0.3));\n",
       "      fill: #FFFFFF;\n",
       "    }\n",
       "  </style>\n",
       "\n",
       "      <script>\n",
       "        const buttonEl =\n",
       "          document.querySelector('#df-cae62c6a-784c-4cd5-affe-254a7ec8525d button.colab-df-convert');\n",
       "        buttonEl.style.display =\n",
       "          google.colab.kernel.accessAllowed ? 'block' : 'none';\n",
       "\n",
       "        async function convertToInteractive(key) {\n",
       "          const element = document.querySelector('#df-cae62c6a-784c-4cd5-affe-254a7ec8525d');\n",
       "          const dataTable =\n",
       "            await google.colab.kernel.invokeFunction('convertToInteractive',\n",
       "                                                     [key], {});\n",
       "          if (!dataTable) return;\n",
       "\n",
       "          const docLinkHtml = 'Like what you see? Visit the ' +\n",
       "            '<a target=\"_blank\" href=https://colab.research.google.com/notebooks/data_table.ipynb>data table notebook</a>'\n",
       "            + ' to learn more about interactive tables.';\n",
       "          element.innerHTML = '';\n",
       "          dataTable['output_type'] = 'display_data';\n",
       "          await google.colab.output.renderOutput(dataTable, element);\n",
       "          const docLink = document.createElement('div');\n",
       "          docLink.innerHTML = docLinkHtml;\n",
       "          element.appendChild(docLink);\n",
       "        }\n",
       "      </script>\n",
       "    </div>\n",
       "  </div>\n"
      ],
      "text/plain": [
       "                Open      High       Low     Close\n",
       "Date                                              \n",
       "1999-01-22 -0.498255 -0.497294 -0.499170  0.410156\n",
       "1999-01-25 -0.498178 -0.497728 -0.498835  0.453125\n",
       "1999-01-26 -0.497946 -0.497596 -0.498816  0.417969\n",
       "1999-01-27 -0.498524 -0.498144 -0.499052  0.416667\n",
       "1999-01-28 -0.498563 -0.498295 -0.498796  0.415365"
      ]
     },
     "execution_count": 55,
     "metadata": {},
     "output_type": "execute_result"
    }
   ],
   "source": [
    "# print(x1[0], x1[1], x1[2])\n",
    "# print()\n",
    "print(y_train)\n",
    "stock_fit_df.head()"
   ]
  },
  {
   "cell_type": "markdown",
   "metadata": {
    "id": "pxM_NdRxErJj"
   },
   "source": [
    "Create the lstm object and add a single dense layer to it. We're simply creating the shape of the network, but not fitting it to our data yet.The input shape is based on feeding the network day highs x_train"
   ]
  },
  {
   "cell_type": "code",
   "execution_count": null,
   "metadata": {
    "colab": {
     "base_uri": "https://localhost:8080/"
    },
    "executionInfo": {
     "elapsed": 154,
     "status": "ok",
     "timestamp": 1690841217951,
     "user": {
      "displayName": "Clay Roberts",
      "userId": "15262378552571056378"
     },
     "user_tz": 300
    },
    "id": "8WzZ8Se2BTa4",
    "outputId": "f2fb36c4-5db8-43a3-87ba-f5ec1efc0a25"
   },
   "outputs": [
    {
     "name": "stdout",
     "output_type": "stream",
     "text": [
      "Model: \"sequential_3\"\n",
      "_________________________________________________________________\n",
      " Layer (type)                Output Shape              Param #   \n",
      "=================================================================\n",
      " lstm_4 (LSTM)               (None, 2, 32)             4608      \n",
      "                                                                 \n",
      " dense_3 (Dense)             (None, 2, 1)              33        \n",
      "                                                                 \n",
      "=================================================================\n",
      "Total params: 4,641\n",
      "Trainable params: 4,641\n",
      "Non-trainable params: 0\n",
      "_________________________________________________________________\n"
     ]
    }
   ],
   "source": [
    "lstm = Sequential()\n",
    "lstm.add(LSTM(32,\n",
    "              input_shape=(x_train.shape[1], x_train.shape[2]),\n",
    "              activation='relu',\n",
    "              return_sequences=True))\n",
    "lstm.add(Dense(1))\n",
    "lstm.compile(loss='mean_squared_error',\n",
    "             optimizer='adam')\n",
    "lstm.summary()"
   ]
  },
  {
   "cell_type": "markdown",
   "metadata": {
    "id": "0J5KiYYWN-hD"
   },
   "source": [
    "We then fit our data to the network, with inputs from the x training set and outputs from the y training set. We run the model for 100 epochs"
   ]
  },
  {
   "cell_type": "code",
   "execution_count": null,
   "metadata": {
    "colab": {
     "base_uri": "https://localhost:8080/"
    },
    "executionInfo": {
     "elapsed": 272637,
     "status": "ok",
     "timestamp": 1690841490582,
     "user": {
      "displayName": "Clay Roberts",
      "userId": "15262378552571056378"
     },
     "user_tz": 300
    },
    "id": "XYIeGvbfFKpi",
    "outputId": "45dc4560-f050-4614-f8ec-d6f5d9410080"
   },
   "outputs": [
    {
     "name": "stdout",
     "output_type": "stream",
     "text": [
      "Epoch 1/100\n",
      "1231/1231 - 5s - loss: 103.0716 - 5s/epoch - 4ms/step\n",
      "Epoch 2/100\n",
      "1231/1231 - 2s - loss: 331.5984 - 2s/epoch - 2ms/step\n",
      "Epoch 3/100\n",
      "1231/1231 - 2s - loss: 76.2474 - 2s/epoch - 2ms/step\n",
      "Epoch 4/100\n",
      "1231/1231 - 2s - loss: 70.2237 - 2s/epoch - 2ms/step\n",
      "Epoch 5/100\n",
      "1231/1231 - 3s - loss: 46.7450 - 3s/epoch - 2ms/step\n",
      "Epoch 6/100\n",
      "1231/1231 - 3s - loss: 20.7325 - 3s/epoch - 2ms/step\n",
      "Epoch 7/100\n",
      "1231/1231 - 2s - loss: 5.2494 - 2s/epoch - 2ms/step\n",
      "Epoch 8/100\n",
      "1231/1231 - 3s - loss: 1.7327 - 3s/epoch - 2ms/step\n",
      "Epoch 9/100\n",
      "1231/1231 - 2s - loss: 0.9702 - 2s/epoch - 2ms/step\n",
      "Epoch 10/100\n",
      "1231/1231 - 3s - loss: 0.6573 - 3s/epoch - 3ms/step\n",
      "Epoch 11/100\n",
      "1231/1231 - 3s - loss: 0.5140 - 3s/epoch - 2ms/step\n",
      "Epoch 12/100\n",
      "1231/1231 - 3s - loss: 0.4362 - 3s/epoch - 2ms/step\n",
      "Epoch 13/100\n",
      "1231/1231 - 3s - loss: 0.3939 - 3s/epoch - 2ms/step\n",
      "Epoch 14/100\n",
      "1231/1231 - 3s - loss: 0.3613 - 3s/epoch - 2ms/step\n",
      "Epoch 15/100\n",
      "1231/1231 - 3s - loss: 0.3285 - 3s/epoch - 3ms/step\n",
      "Epoch 16/100\n",
      "1231/1231 - 3s - loss: 0.3103 - 3s/epoch - 2ms/step\n",
      "Epoch 17/100\n",
      "1231/1231 - 3s - loss: 0.2997 - 3s/epoch - 2ms/step\n",
      "Epoch 18/100\n",
      "1231/1231 - 2s - loss: 0.2903 - 2s/epoch - 2ms/step\n",
      "Epoch 19/100\n",
      "1231/1231 - 3s - loss: 0.2807 - 3s/epoch - 3ms/step\n",
      "Epoch 20/100\n",
      "1231/1231 - 2s - loss: 0.2715 - 2s/epoch - 2ms/step\n",
      "Epoch 21/100\n",
      "1231/1231 - 2s - loss: 0.2645 - 2s/epoch - 2ms/step\n",
      "Epoch 22/100\n",
      "1231/1231 - 2s - loss: 0.2600 - 2s/epoch - 2ms/step\n",
      "Epoch 23/100\n",
      "1231/1231 - 2s - loss: 0.2563 - 2s/epoch - 2ms/step\n",
      "Epoch 24/100\n",
      "1231/1231 - 4s - loss: 0.2510 - 4s/epoch - 3ms/step\n",
      "Epoch 25/100\n",
      "1231/1231 - 2s - loss: 0.2462 - 2s/epoch - 2ms/step\n",
      "Epoch 26/100\n",
      "1231/1231 - 2s - loss: 0.2410 - 2s/epoch - 2ms/step\n",
      "Epoch 27/100\n",
      "1231/1231 - 2s - loss: 0.2374 - 2s/epoch - 2ms/step\n",
      "Epoch 28/100\n",
      "1231/1231 - 4s - loss: 0.2337 - 4s/epoch - 3ms/step\n",
      "Epoch 29/100\n",
      "1231/1231 - 3s - loss: 0.2285 - 3s/epoch - 2ms/step\n",
      "Epoch 30/100\n",
      "1231/1231 - 2s - loss: 0.2250 - 2s/epoch - 2ms/step\n",
      "Epoch 31/100\n",
      "1231/1231 - 2s - loss: 0.2216 - 2s/epoch - 2ms/step\n",
      "Epoch 32/100\n",
      "1231/1231 - 2s - loss: 0.2207 - 2s/epoch - 2ms/step\n",
      "Epoch 33/100\n",
      "1231/1231 - 3s - loss: 0.2202 - 3s/epoch - 3ms/step\n",
      "Epoch 34/100\n",
      "1231/1231 - 2s - loss: 0.2200 - 2s/epoch - 2ms/step\n",
      "Epoch 35/100\n",
      "1231/1231 - 2s - loss: 0.2195 - 2s/epoch - 2ms/step\n",
      "Epoch 36/100\n",
      "1231/1231 - 2s - loss: 0.2187 - 2s/epoch - 2ms/step\n",
      "Epoch 37/100\n",
      "1231/1231 - 2s - loss: 0.2179 - 2s/epoch - 2ms/step\n",
      "Epoch 38/100\n",
      "1231/1231 - 3s - loss: 0.2171 - 3s/epoch - 3ms/step\n",
      "Epoch 39/100\n",
      "1231/1231 - 2s - loss: 0.2162 - 2s/epoch - 2ms/step\n",
      "Epoch 40/100\n",
      "1231/1231 - 2s - loss: 0.2161 - 2s/epoch - 2ms/step\n",
      "Epoch 41/100\n",
      "1231/1231 - 2s - loss: 0.2154 - 2s/epoch - 2ms/step\n",
      "Epoch 42/100\n",
      "1231/1231 - 2s - loss: 0.2147 - 2s/epoch - 2ms/step\n",
      "Epoch 43/100\n",
      "1231/1231 - 3s - loss: 0.2140 - 3s/epoch - 3ms/step\n",
      "Epoch 44/100\n",
      "1231/1231 - 3s - loss: 0.2134 - 3s/epoch - 2ms/step\n",
      "Epoch 45/100\n",
      "1231/1231 - 2s - loss: 0.2128 - 2s/epoch - 2ms/step\n",
      "Epoch 46/100\n",
      "1231/1231 - 2s - loss: 0.2124 - 2s/epoch - 2ms/step\n",
      "Epoch 47/100\n",
      "1231/1231 - 3s - loss: 0.2117 - 3s/epoch - 2ms/step\n",
      "Epoch 48/100\n",
      "1231/1231 - 3s - loss: 0.2111 - 3s/epoch - 2ms/step\n",
      "Epoch 49/100\n",
      "1231/1231 - 3s - loss: 0.2103 - 3s/epoch - 2ms/step\n",
      "Epoch 50/100\n",
      "1231/1231 - 3s - loss: 0.2088 - 3s/epoch - 2ms/step\n",
      "Epoch 51/100\n",
      "1231/1231 - 3s - loss: 0.2071 - 3s/epoch - 2ms/step\n",
      "Epoch 52/100\n",
      "1231/1231 - 4s - loss: 0.2068 - 4s/epoch - 3ms/step\n",
      "Epoch 53/100\n",
      "1231/1231 - 3s - loss: 0.2052 - 3s/epoch - 2ms/step\n",
      "Epoch 54/100\n",
      "1231/1231 - 2s - loss: 0.2037 - 2s/epoch - 2ms/step\n",
      "Epoch 55/100\n",
      "1231/1231 - 2s - loss: 0.2025 - 2s/epoch - 2ms/step\n",
      "Epoch 56/100\n",
      "1231/1231 - 2s - loss: 0.2012 - 2s/epoch - 2ms/step\n",
      "Epoch 57/100\n",
      "1231/1231 - 3s - loss: 0.2022 - 3s/epoch - 3ms/step\n",
      "Epoch 58/100\n",
      "1231/1231 - 2s - loss: 0.2006 - 2s/epoch - 2ms/step\n",
      "Epoch 59/100\n",
      "1231/1231 - 2s - loss: 0.2015 - 2s/epoch - 2ms/step\n",
      "Epoch 60/100\n",
      "1231/1231 - 2s - loss: 0.1990 - 2s/epoch - 2ms/step\n",
      "Epoch 61/100\n",
      "1231/1231 - 3s - loss: 0.1978 - 3s/epoch - 2ms/step\n",
      "Epoch 62/100\n",
      "1231/1231 - 3s - loss: 0.1966 - 3s/epoch - 3ms/step\n",
      "Epoch 63/100\n",
      "1231/1231 - 2s - loss: 0.1968 - 2s/epoch - 2ms/step\n",
      "Epoch 64/100\n",
      "1231/1231 - 2s - loss: 0.1970 - 2s/epoch - 2ms/step\n",
      "Epoch 65/100\n",
      "1231/1231 - 3s - loss: 0.1973 - 3s/epoch - 2ms/step\n",
      "Epoch 66/100\n",
      "1231/1231 - 3s - loss: 0.1968 - 3s/epoch - 2ms/step\n",
      "Epoch 67/100\n",
      "1231/1231 - 3s - loss: 0.1968 - 3s/epoch - 2ms/step\n",
      "Epoch 68/100\n",
      "1231/1231 - 3s - loss: 0.1966 - 3s/epoch - 2ms/step\n",
      "Epoch 69/100\n",
      "1231/1231 - 3s - loss: 0.1966 - 3s/epoch - 2ms/step\n",
      "Epoch 70/100\n",
      "1231/1231 - 2s - loss: 0.1960 - 2s/epoch - 2ms/step\n",
      "Epoch 71/100\n",
      "1231/1231 - 3s - loss: 0.1959 - 3s/epoch - 3ms/step\n",
      "Epoch 72/100\n",
      "1231/1231 - 2s - loss: 0.1957 - 2s/epoch - 2ms/step\n",
      "Epoch 73/100\n",
      "1231/1231 - 2s - loss: 0.1953 - 2s/epoch - 2ms/step\n",
      "Epoch 74/100\n",
      "1231/1231 - 2s - loss: 0.1951 - 2s/epoch - 2ms/step\n",
      "Epoch 75/100\n",
      "1231/1231 - 2s - loss: 0.1946 - 2s/epoch - 2ms/step\n",
      "Epoch 76/100\n",
      "1231/1231 - 3s - loss: 0.1950 - 3s/epoch - 3ms/step\n",
      "Epoch 77/100\n",
      "1231/1231 - 2s - loss: 0.1950 - 2s/epoch - 2ms/step\n",
      "Epoch 78/100\n",
      "1231/1231 - 2s - loss: 0.1951 - 2s/epoch - 2ms/step\n",
      "Epoch 79/100\n",
      "1231/1231 - 2s - loss: 0.1947 - 2s/epoch - 2ms/step\n",
      "Epoch 80/100\n",
      "1231/1231 - 3s - loss: 0.1969 - 3s/epoch - 2ms/step\n",
      "Epoch 81/100\n",
      "1231/1231 - 3s - loss: 0.1962 - 3s/epoch - 3ms/step\n",
      "Epoch 82/100\n",
      "1231/1231 - 2s - loss: 0.1955 - 2s/epoch - 2ms/step\n",
      "Epoch 83/100\n",
      "1231/1231 - 2s - loss: 0.1946 - 2s/epoch - 2ms/step\n",
      "Epoch 84/100\n",
      "1231/1231 - 2s - loss: 0.1947 - 2s/epoch - 2ms/step\n",
      "Epoch 85/100\n",
      "1231/1231 - 3s - loss: 0.1955 - 3s/epoch - 3ms/step\n",
      "Epoch 86/100\n",
      "1231/1231 - 3s - loss: 0.1949 - 3s/epoch - 2ms/step\n",
      "Epoch 87/100\n",
      "1231/1231 - 4s - loss: 0.1950 - 4s/epoch - 3ms/step\n",
      "Epoch 88/100\n",
      "1231/1231 - 3s - loss: 0.1949 - 3s/epoch - 2ms/step\n",
      "Epoch 89/100\n",
      "1231/1231 - 3s - loss: 0.1948 - 3s/epoch - 3ms/step\n",
      "Epoch 90/100\n",
      "1231/1231 - 3s - loss: 0.1948 - 3s/epoch - 2ms/step\n",
      "Epoch 91/100\n",
      "1231/1231 - 2s - loss: 0.1950 - 2s/epoch - 2ms/step\n",
      "Epoch 92/100\n",
      "1231/1231 - 3s - loss: 0.1949 - 3s/epoch - 2ms/step\n",
      "Epoch 93/100\n",
      "1231/1231 - 2s - loss: 0.1953 - 2s/epoch - 2ms/step\n",
      "Epoch 94/100\n",
      "1231/1231 - 3s - loss: 0.1954 - 3s/epoch - 3ms/step\n",
      "Epoch 95/100\n",
      "1231/1231 - 2s - loss: 0.1953 - 2s/epoch - 2ms/step\n",
      "Epoch 96/100\n",
      "1231/1231 - 2s - loss: 0.1959 - 2s/epoch - 2ms/step\n",
      "Epoch 97/100\n",
      "1231/1231 - 2s - loss: 0.1965 - 2s/epoch - 2ms/step\n",
      "Epoch 98/100\n",
      "1231/1231 - 2s - loss: 0.1974 - 2s/epoch - 2ms/step\n",
      "Epoch 99/100\n",
      "1231/1231 - 3s - loss: 0.1969 - 3s/epoch - 3ms/step\n",
      "Epoch 100/100\n",
      "1231/1231 - 2s - loss: 0.1978 - 2s/epoch - 2ms/step\n"
     ]
    }
   ],
   "source": [
    "history = lstm.fit(x_train,\n",
    "                   y_train,\n",
    "                   epochs=100,\n",
    "                   batch_size=4,\n",
    "                   verbose=2,\n",
    "                   shuffle=False)"
   ]
  },
  {
   "cell_type": "markdown",
   "metadata": {
    "id": "9jBBkandORf6"
   },
   "source": [
    "We check the history object created from fitting the model."
   ]
  },
  {
   "cell_type": "code",
   "execution_count": null,
   "metadata": {
    "colab": {
     "base_uri": "https://localhost:8080/"
    },
    "executionInfo": {
     "elapsed": 16,
     "status": "ok",
     "timestamp": 1690841490582,
     "user": {
      "displayName": "Clay Roberts",
      "userId": "15262378552571056378"
     },
     "user_tz": 300
    },
    "id": "6-rJw4P4Jvhq",
    "outputId": "8f91c7b2-2c3f-401a-95c6-fff7355d2a12"
   },
   "outputs": [
    {
     "name": "stdout",
     "output_type": "stream",
     "text": [
      "{'verbose': 2, 'epochs': 100, 'steps': 1231}\n",
      "dict_keys(['loss'])\n",
      "[103.07158660888672, 331.5983581542969, 76.24739074707031, 70.2236557006836, 46.744964599609375, 20.7325439453125, 5.249440670013428, 1.732655644416809, 0.9702268242835999, 0.6573206782341003, 0.5139606595039368, 0.43621212244033813, 0.3939402997493744, 0.3612820506095886, 0.32854926586151123, 0.31031131744384766, 0.29968327283859253, 0.2902630865573883, 0.2807192802429199, 0.27151796221733093, 0.2645423114299774, 0.2600175440311432, 0.25634467601776123, 0.25097066164016724, 0.24624009430408478, 0.24103157222270966, 0.23742829263210297, 0.23367108404636383, 0.22845275700092316, 0.22499169409275055, 0.22159503400325775, 0.22069744765758514, 0.22023318707942963, 0.22002556920051575, 0.21946218609809875, 0.21868295967578888, 0.21791739761829376, 0.21714015305042267, 0.21618932485580444, 0.21606162190437317, 0.21536332368850708, 0.21472564339637756, 0.21397845447063446, 0.21337983012199402, 0.21280662715435028, 0.21240323781967163, 0.21168281137943268, 0.21113140881061554, 0.21029479801654816, 0.20880025625228882, 0.20709726214408875, 0.20675651729106903, 0.20524947345256805, 0.203668013215065, 0.2024909406900406, 0.20121049880981445, 0.20215390622615814, 0.20064818859100342, 0.20146337151527405, 0.1989852637052536, 0.19777163863182068, 0.19657105207443237, 0.19682352244853973, 0.19696912169456482, 0.197292760014534, 0.1968199610710144, 0.19678819179534912, 0.1966453194618225, 0.19662055373191833, 0.19597436487674713, 0.1959405094385147, 0.1956949532032013, 0.19533948600292206, 0.19508495926856995, 0.19464558362960815, 0.19497284293174744, 0.1950007975101471, 0.19508129358291626, 0.19469034671783447, 0.19694620370864868, 0.1962146759033203, 0.19554422795772552, 0.19459667801856995, 0.19465817511081696, 0.1954871267080307, 0.1948665827512741, 0.1950235366821289, 0.1949486881494522, 0.1948034018278122, 0.19475887715816498, 0.1950346678495407, 0.19487644731998444, 0.19531939923763275, 0.19536460936069489, 0.19529122114181519, 0.19586056470870972, 0.1964542716741562, 0.19738180935382843, 0.19685564935207367, 0.19780303537845612]\n"
     ]
    }
   ],
   "source": [
    "print(history.params)\n",
    "print(history.history.keys())\n",
    "print(history.history['loss'])"
   ]
  },
  {
   "cell_type": "markdown",
   "metadata": {
    "id": "pMY7G-xTObJq"
   },
   "source": [
    "Graphing the model shows that just after a few epochs the model quickly converged to a fractional loss."
   ]
  },
  {
   "cell_type": "code",
   "execution_count": null,
   "metadata": {
    "colab": {
     "base_uri": "https://localhost:8080/",
     "height": 427
    },
    "executionInfo": {
     "elapsed": 345,
     "status": "ok",
     "timestamp": 1690841490918,
     "user": {
      "displayName": "Clay Roberts",
      "userId": "15262378552571056378"
     },
     "user_tz": 300
    },
    "id": "r_mfQov_LhnR",
    "outputId": "2d98e231-cecc-4387-aa1a-5728d7e7f4c9"
   },
   "outputs": [
    {
     "data": {
      "image/png": "[encoded data removed]",
      "text/plain": [
       "<Figure size 1000x500 with 1 Axes>"
      ]
     },
     "metadata": {},
     "output_type": "display_data"
    }
   ],
   "source": [
    "plt.figure(figsize=(10,5))\n",
    "epoch_loss = history.history['loss']\n",
    "epoch_num = range(0, 100, 1)\n",
    "plt.plot(epoch_num, epoch_loss)\n",
    "\n",
    "plt.xlabel('Epoch Number')\n",
    "plt.ylabel('Loss')\n",
    "plt.xticks(range(0, 100, 5))\n",
    "plt.gcf().autofmt_xdate()\n",
    "plt.show()"
   ]
  },
  {
   "cell_type": "markdown",
   "metadata": {
    "id": "ddDiOqf6P3ry"
   },
   "source": [
    "We graphed the data again, but this time excluding the first 10 epochs to get a better idea of how, and when the converge levelled out."
   ]
  },
  {
   "cell_type": "code",
   "execution_count": null,
   "metadata": {
    "colab": {
     "base_uri": "https://localhost:8080/",
     "height": 427
    },
    "executionInfo": {
     "elapsed": 215,
     "status": "ok",
     "timestamp": 1690841491124,
     "user": {
      "displayName": "Clay Roberts",
      "userId": "15262378552571056378"
     },
     "user_tz": 300
    },
    "id": "v_QjX2MtNbML",
    "outputId": "92fbaf9a-cd5b-4106-d185-b40730b6601b"
   },
   "outputs": [
    {
     "data": {
      "image/png": "[encoded data removed]",
      "text/plain": [
       "<Figure size 1000x500 with 1 Axes>"
      ]
     },
     "metadata": {},
     "output_type": "display_data"
    }
   ],
   "source": [
    "plt.figure(figsize=(10,5))\n",
    "epoch_loss = history.history['loss'][10:]\n",
    "epoch_num = range(10, 100, 1)\n",
    "plt.plot(epoch_num, epoch_loss)\n",
    "\n",
    "plt.xlabel('Epoch Number')\n",
    "plt.ylabel('Loss')\n",
    "plt.xticks(range(0, 100, 5))\n",
    "plt.gcf().autofmt_xdate()\n",
    "plt.show()"
   ]
  },
  {
   "cell_type": "code",
   "execution_count": null,
   "metadata": {
    "colab": {
     "base_uri": "https://localhost:8080/"
    },
    "executionInfo": {
     "elapsed": 378,
     "status": "ok",
     "timestamp": 1690841491498,
     "user": {
      "displayName": "Clay Roberts",
      "userId": "15262378552571056378"
     },
     "user_tz": 300
    },
    "id": "67iDqhQ9P4a5",
    "outputId": "d6023385-0d9c-42ff-c188-48505977c2d1"
   },
   "outputs": [
    {
     "name": "stdout",
     "output_type": "stream",
     "text": [
      "39/39 [==============================] - 0s 2ms/step\n",
      "(1231, 2, 3) (1231, 2, 1)\n"
     ]
    }
   ],
   "source": [
    "y_pred = lstm.predict(x_test)\n",
    "print(x_test.shape, y_pred.shape)\n",
    "y_pred = [pred[1] for pred in [item for item in y_pred]]"
   ]
  },
  {
   "cell_type": "markdown",
   "metadata": {
    "id": "R5TVq0qCiztm"
   },
   "source": [
    "Issue with return dimensionality, instead saving the the second returned y prediction series as the only series"
   ]
  },
  {
   "cell_type": "code",
   "execution_count": null,
   "metadata": {
    "colab": {
     "base_uri": "https://localhost:8080/"
    },
    "executionInfo": {
     "elapsed": 14,
     "status": "ok",
     "timestamp": 1690841491499,
     "user": {
      "displayName": "Clay Roberts",
      "userId": "15262378552571056378"
     },
     "user_tz": 300
    },
    "id": "UJR31pufQ48s",
    "outputId": "23d45b78-22b1-4d59-fc90-99dba3864c4d"
   },
   "outputs": [
    {
     "name": "stdout",
     "output_type": "stream",
     "text": [
      "[62.632298]\n"
     ]
    }
   ],
   "source": [
    "print(y_pred[1])"
   ]
  },
  {
   "cell_type": "code",
   "execution_count": null,
   "metadata": {
    "colab": {
     "base_uri": "https://localhost:8080/",
     "height": 778
    },
    "executionInfo": {
     "elapsed": 798,
     "status": "ok",
     "timestamp": 1690842157666,
     "user": {
      "displayName": "Clay Roberts",
      "userId": "15262378552571056378"
     },
     "user_tz": 300
    },
    "id": "A5lOWzk6QeBy",
    "outputId": "da0e9f88-ce4b-4b64-bfa2-39c96c3138a0"
   },
   "outputs": [
    {
     "data": {
      "image/png": "[encoded data removed]",
      "text/plain": [
       "<Figure size 1500x1000 with 1 Axes>"
      ]
     },
     "metadata": {},
     "output_type": "display_data"
    }
   ],
   "source": [
    "plt.figure(figsize=(15,10))\n",
    "plt.gca().xaxis.set_major_formatter(mdates.DateFormatter('%Y-%m-%d'))\n",
    "plt.gca().xaxis.set_major_locator(mdates.DayLocator(interval=365))\n",
    "x_dates = [dt.datetime.strptime(d, '%Y-%m-%d').date() for d in x_test_date]\n",
    "\n",
    "plt.plot(x_dates[:-1], y_test, label='True Value')\n",
    "plt.plot(x_dates[:-1], y_pred, label='LSTM Value')\n",
    "plt.ylabel('USD')\n",
    "plt.legend()\n",
    "plt.gcf().autofmt_xdate()\n",
    "plt.show()"
   ]
  },
  {
   "cell_type": "code",
   "execution_count": null,
   "metadata": {
    "colab": {
     "base_uri": "https://localhost:8080/"
    },
    "executionInfo": {
     "elapsed": 21,
     "status": "ok",
     "timestamp": 1690841491994,
     "user": {
      "displayName": "Clay Roberts",
      "userId": "15262378552571056378"
     },
     "user_tz": 300
    },
    "id": "rIgIBIERdgq8",
    "outputId": "1d0bea7e-d393-45d5-e8f0-8f9e487ca994"
   },
   "outputs": [
    {
     "name": "stdout",
     "output_type": "stream",
     "text": [
      "RSME: 21.068226018046328\n",
      "MAPE: 0.073225448502312\n"
     ]
    }
   ],
   "source": [
    "rmse = mean_squared_error(y_test, y_pred, squared=False)\n",
    "mape = mean_absolute_percentage_error(y_test, y_pred)\n",
    "print('RSME: ' + str(rmse))\n",
    "print('MAPE: ' + str(mape))"
   ]
  },
  {
   "cell_type": "code",
   "execution_count": null,
   "metadata": {
    "colab": {
     "base_uri": "https://localhost:8080/"
    },
    "executionInfo": {
     "elapsed": 176,
     "status": "ok",
     "timestamp": 1690842461864,
     "user": {
      "displayName": "Clay Roberts",
      "userId": "15262378552571056378"
     },
     "user_tz": 300
    },
    "id": "Yaq9ItugC-D2",
    "outputId": "6e8a4dd5-4418-4ed0-93a1-9afaf56612cb"
   },
   "outputs": [
    {
     "name": "stdout",
     "output_type": "stream",
     "text": [
      "RSME: 0.05638482719478797\n",
      "MAPE: 0.23729406648355994\n"
     ]
    }
   ],
   "source": [
    "y_arr = y_test.reshape(-1, 1)\n",
    "y_test_fit = sc.fit_transform(y_arr)\n",
    "\n",
    "y_pred_fit = sc.fit_transform(y_pred)\n",
    "\n",
    "rmse = mean_squared_error(y_test_fit, y_pred_fit, squared=False)\n",
    "mape = mean_absolute_percentage_error(y_test_fit, y_pred_fit)\n",
    "print('RSME: ' + str(rmse))\n",
    "print('MAPE: ' + str(mape))"
   ]
  },
  {
   "cell_type": "markdown",
   "metadata": {
    "id": "PzZqZPIy7hUg"
   },
   "source": [
    "Netx, we attempt to tune the number of layers and how large they are to see if that improves the model."
   ]
  },
  {
   "cell_type": "code",
   "execution_count": null,
   "metadata": {
    "colab": {
     "base_uri": "https://localhost:8080/"
    },
    "executionInfo": {
     "elapsed": 169,
     "status": "ok",
     "timestamp": 1690841492149,
     "user": {
      "displayName": "Clay Roberts",
      "userId": "15262378552571056378"
     },
     "user_tz": 300
    },
    "id": "tM5LmNpJmJl7",
    "outputId": "3632c192-6d71-42f1-d43b-2655e8babb20"
   },
   "outputs": [
    {
     "name": "stdout",
     "output_type": "stream",
     "text": [
      "Model: \"sequential_4\"\n",
      "_________________________________________________________________\n",
      " Layer (type)                Output Shape              Param #   \n",
      "=================================================================\n",
      " lstm_5 (LSTM)               (None, 2, 50)             10800     \n",
      "                                                                 \n",
      " lstm_6 (LSTM)               (None, 50)                20200     \n",
      "                                                                 \n",
      " dense_4 (Dense)             (None, 1)                 51        \n",
      "                                                                 \n",
      "=================================================================\n",
      "Total params: 31,051\n",
      "Trainable params: 31,051\n",
      "Non-trainable params: 0\n",
      "_________________________________________________________________\n"
     ]
    }
   ],
   "source": [
    "lstm2 = Sequential()\n",
    "lstm2.add(LSTM(50,\n",
    "              input_shape=(x_train.shape[1], x_train.shape[2]),\n",
    "              activation='relu',\n",
    "              return_sequences=True))\n",
    "lstm2.add(LSTM(50, activation='relu'))\n",
    "\n",
    "lstm2.add(Dense(1))\n",
    "lstm2.compile(loss='mean_squared_error',\n",
    "             optimizer='adam')\n",
    "lstm2.summary()"
   ]
  },
  {
   "cell_type": "code",
   "execution_count": null,
   "metadata": {
    "colab": {
     "base_uri": "https://localhost:8080/"
    },
    "executionInfo": {
     "elapsed": 444386,
     "status": "ok",
     "timestamp": 1690841936530,
     "user": {
      "displayName": "Clay Roberts",
      "userId": "15262378552571056378"
     },
     "user_tz": 300
    },
    "id": "bVx_zoy9mlJD",
    "outputId": "8a6cb323-fccc-47e2-853f-f26781ead333"
   },
   "outputs": [
    {
     "name": "stdout",
     "output_type": "stream",
     "text": [
      "Epoch 1/100\n",
      "1231/1231 - 6s - loss: 12.4422 - 6s/epoch - 5ms/step\n",
      "Epoch 2/100\n",
      "1231/1231 - 4s - loss: 149.2006 - 4s/epoch - 4ms/step\n",
      "Epoch 3/100\n",
      "1231/1231 - 4s - loss: 8.8482 - 4s/epoch - 3ms/step\n",
      "Epoch 4/100\n",
      "1231/1231 - 4s - loss: 2.9058 - 4s/epoch - 3ms/step\n",
      "Epoch 5/100\n",
      "1231/1231 - 5s - loss: 1.5917 - 5s/epoch - 4ms/step\n",
      "Epoch 6/100\n",
      "1231/1231 - 4s - loss: 1.2285 - 4s/epoch - 3ms/step\n",
      "Epoch 7/100\n",
      "1231/1231 - 4s - loss: 1.1866 - 4s/epoch - 3ms/step\n",
      "Epoch 8/100\n",
      "1231/1231 - 5s - loss: 1.0880 - 5s/epoch - 4ms/step\n",
      "Epoch 9/100\n",
      "1231/1231 - 3s - loss: 0.9042 - 3s/epoch - 3ms/step\n",
      "Epoch 10/100\n",
      "1231/1231 - 4s - loss: 1.4639 - 4s/epoch - 3ms/step\n",
      "Epoch 11/100\n",
      "1231/1231 - 4s - loss: 1.5218 - 4s/epoch - 3ms/step\n",
      "Epoch 12/100\n",
      "1231/1231 - 4s - loss: 1.5463 - 4s/epoch - 3ms/step\n",
      "Epoch 13/100\n",
      "1231/1231 - 4s - loss: 1.5532 - 4s/epoch - 3ms/step\n",
      "Epoch 14/100\n",
      "1231/1231 - 4s - loss: 1.5144 - 4s/epoch - 3ms/step\n",
      "Epoch 15/100\n",
      "1231/1231 - 5s - loss: 1.4869 - 5s/epoch - 4ms/step\n",
      "Epoch 16/100\n",
      "1231/1231 - 4s - loss: 1.3896 - 4s/epoch - 3ms/step\n",
      "Epoch 17/100\n",
      "1231/1231 - 4s - loss: 1.3024 - 4s/epoch - 3ms/step\n",
      "Epoch 18/100\n",
      "1231/1231 - 5s - loss: 1.2024 - 5s/epoch - 4ms/step\n",
      "Epoch 19/100\n",
      "1231/1231 - 4s - loss: 1.0817 - 4s/epoch - 3ms/step\n",
      "Epoch 20/100\n",
      "1231/1231 - 4s - loss: 0.9813 - 4s/epoch - 3ms/step\n",
      "Epoch 21/100\n",
      "1231/1231 - 5s - loss: 0.8810 - 5s/epoch - 4ms/step\n",
      "Epoch 22/100\n",
      "1231/1231 - 4s - loss: 0.7785 - 4s/epoch - 3ms/step\n",
      "Epoch 23/100\n",
      "1231/1231 - 4s - loss: 0.7199 - 4s/epoch - 3ms/step\n",
      "Epoch 24/100\n",
      "1231/1231 - 4s - loss: 0.6626 - 4s/epoch - 3ms/step\n",
      "Epoch 25/100\n",
      "1231/1231 - 4s - loss: 0.5962 - 4s/epoch - 3ms/step\n",
      "Epoch 26/100\n",
      "1231/1231 - 4s - loss: 0.4903 - 4s/epoch - 3ms/step\n",
      "Epoch 27/100\n",
      "1231/1231 - 4s - loss: 0.4453 - 4s/epoch - 3ms/step\n",
      "Epoch 28/100\n",
      "1231/1231 - 5s - loss: 0.4129 - 5s/epoch - 4ms/step\n",
      "Epoch 29/100\n",
      "1231/1231 - 4s - loss: 0.3958 - 4s/epoch - 3ms/step\n",
      "Epoch 30/100\n",
      "1231/1231 - 3s - loss: 0.3827 - 3s/epoch - 3ms/step\n",
      "Epoch 31/100\n",
      "1231/1231 - 5s - loss: 0.3718 - 5s/epoch - 4ms/step\n",
      "Epoch 32/100\n",
      "1231/1231 - 4s - loss: 0.3676 - 4s/epoch - 3ms/step\n",
      "Epoch 33/100\n",
      "1231/1231 - 4s - loss: 0.3654 - 4s/epoch - 3ms/step\n",
      "Epoch 34/100\n",
      "1231/1231 - 5s - loss: 0.3632 - 5s/epoch - 4ms/step\n",
      "Epoch 35/100\n",
      "1231/1231 - 4s - loss: 0.3604 - 4s/epoch - 3ms/step\n",
      "Epoch 36/100\n",
      "1231/1231 - 4s - loss: 0.3575 - 4s/epoch - 3ms/step\n",
      "Epoch 37/100\n",
      "1231/1231 - 5s - loss: 0.3551 - 5s/epoch - 4ms/step\n",
      "Epoch 38/100\n",
      "1231/1231 - 4s - loss: 0.3499 - 4s/epoch - 3ms/step\n",
      "Epoch 39/100\n",
      "1231/1231 - 4s - loss: 0.3466 - 4s/epoch - 3ms/step\n",
      "Epoch 40/100\n",
      "1231/1231 - 5s - loss: 0.3432 - 5s/epoch - 4ms/step\n",
      "Epoch 41/100\n",
      "1231/1231 - 4s - loss: 0.3418 - 4s/epoch - 4ms/step\n",
      "Epoch 42/100\n",
      "1231/1231 - 4s - loss: 0.3386 - 4s/epoch - 3ms/step\n",
      "Epoch 43/100\n",
      "1231/1231 - 5s - loss: 0.3372 - 5s/epoch - 4ms/step\n",
      "Epoch 44/100\n",
      "1231/1231 - 4s - loss: 0.3332 - 4s/epoch - 3ms/step\n",
      "Epoch 45/100\n",
      "1231/1231 - 4s - loss: 0.3299 - 4s/epoch - 3ms/step\n",
      "Epoch 46/100\n",
      "1231/1231 - 5s - loss: 0.3251 - 5s/epoch - 4ms/step\n",
      "Epoch 47/100\n",
      "1231/1231 - 4s - loss: 0.3236 - 4s/epoch - 3ms/step\n",
      "Epoch 48/100\n",
      "1231/1231 - 4s - loss: 0.3198 - 4s/epoch - 3ms/step\n",
      "Epoch 49/100\n",
      "1231/1231 - 5s - loss: 0.3157 - 5s/epoch - 4ms/step\n",
      "Epoch 50/100\n",
      "1231/1231 - 4s - loss: 0.3127 - 4s/epoch - 3ms/step\n",
      "Epoch 51/100\n",
      "1231/1231 - 4s - loss: 0.3087 - 4s/epoch - 3ms/step\n",
      "Epoch 52/100\n",
      "1231/1231 - 5s - loss: 0.3035 - 5s/epoch - 4ms/step\n",
      "Epoch 53/100\n",
      "1231/1231 - 4s - loss: 0.2998 - 4s/epoch - 3ms/step\n",
      "Epoch 54/100\n",
      "1231/1231 - 4s - loss: 0.2937 - 4s/epoch - 3ms/step\n",
      "Epoch 55/100\n",
      "1231/1231 - 4s - loss: 0.2929 - 4s/epoch - 3ms/step\n",
      "Epoch 56/100\n",
      "1231/1231 - 4s - loss: 0.2897 - 4s/epoch - 3ms/step\n",
      "Epoch 57/100\n",
      "1231/1231 - 4s - loss: 0.2886 - 4s/epoch - 3ms/step\n",
      "Epoch 58/100\n",
      "1231/1231 - 4s - loss: 0.2844 - 4s/epoch - 3ms/step\n",
      "Epoch 59/100\n",
      "1231/1231 - 5s - loss: 0.2858 - 5s/epoch - 4ms/step\n",
      "Epoch 60/100\n",
      "1231/1231 - 4s - loss: 0.2822 - 4s/epoch - 3ms/step\n",
      "Epoch 61/100\n",
      "1231/1231 - 4s - loss: 0.2817 - 4s/epoch - 3ms/step\n",
      "Epoch 62/100\n",
      "1231/1231 - 5s - loss: 0.2806 - 5s/epoch - 4ms/step\n",
      "Epoch 63/100\n",
      "1231/1231 - 4s - loss: 0.2791 - 4s/epoch - 3ms/step\n",
      "Epoch 64/100\n",
      "1231/1231 - 4s - loss: 0.2775 - 4s/epoch - 3ms/step\n",
      "Epoch 65/100\n",
      "1231/1231 - 5s - loss: 0.2793 - 5s/epoch - 4ms/step\n",
      "Epoch 66/100\n",
      "1231/1231 - 4s - loss: 0.2764 - 4s/epoch - 3ms/step\n",
      "Epoch 67/100\n",
      "1231/1231 - 4s - loss: 0.2725 - 4s/epoch - 3ms/step\n",
      "Epoch 68/100\n",
      "1231/1231 - 5s - loss: 0.2749 - 5s/epoch - 4ms/step\n",
      "Epoch 69/100\n",
      "1231/1231 - 4s - loss: 0.2749 - 4s/epoch - 3ms/step\n",
      "Epoch 70/100\n",
      "1231/1231 - 4s - loss: 0.2749 - 4s/epoch - 3ms/step\n",
      "Epoch 71/100\n",
      "1231/1231 - 5s - loss: 0.2696 - 5s/epoch - 4ms/step\n",
      "Epoch 72/100\n",
      "1231/1231 - 4s - loss: 0.2682 - 4s/epoch - 3ms/step\n",
      "Epoch 73/100\n",
      "1231/1231 - 4s - loss: 0.2654 - 4s/epoch - 3ms/step\n",
      "Epoch 74/100\n",
      "1231/1231 - 5s - loss: 0.2615 - 5s/epoch - 4ms/step\n",
      "Epoch 75/100\n",
      "1231/1231 - 4s - loss: 0.2597 - 4s/epoch - 3ms/step\n",
      "Epoch 76/100\n",
      "1231/1231 - 4s - loss: 0.2564 - 4s/epoch - 3ms/step\n",
      "Epoch 77/100\n",
      "1231/1231 - 5s - loss: 0.2540 - 5s/epoch - 4ms/step\n",
      "Epoch 78/100\n",
      "1231/1231 - 4s - loss: 0.2508 - 4s/epoch - 3ms/step\n",
      "Epoch 79/100\n",
      "1231/1231 - 4s - loss: 0.2479 - 4s/epoch - 4ms/step\n",
      "Epoch 80/100\n",
      "1231/1231 - 5s - loss: 0.2450 - 5s/epoch - 4ms/step\n",
      "Epoch 81/100\n",
      "1231/1231 - 4s - loss: 0.2412 - 4s/epoch - 3ms/step\n",
      "Epoch 82/100\n",
      "1231/1231 - 4s - loss: 0.2370 - 4s/epoch - 3ms/step\n",
      "Epoch 83/100\n",
      "1231/1231 - 5s - loss: 0.2337 - 5s/epoch - 4ms/step\n",
      "Epoch 84/100\n",
      "1231/1231 - 4s - loss: 0.2276 - 4s/epoch - 3ms/step\n",
      "Epoch 85/100\n",
      "1231/1231 - 4s - loss: 0.2267 - 4s/epoch - 3ms/step\n",
      "Epoch 86/100\n",
      "1231/1231 - 5s - loss: 0.2230 - 5s/epoch - 4ms/step\n",
      "Epoch 87/100\n",
      "1231/1231 - 4s - loss: 0.2215 - 4s/epoch - 3ms/step\n",
      "Epoch 88/100\n",
      "1231/1231 - 4s - loss: 0.2186 - 4s/epoch - 3ms/step\n",
      "Epoch 89/100\n",
      "1231/1231 - 5s - loss: 0.2130 - 5s/epoch - 4ms/step\n",
      "Epoch 90/100\n",
      "1231/1231 - 3s - loss: 0.2128 - 3s/epoch - 3ms/step\n",
      "Epoch 91/100\n",
      "1231/1231 - 4s - loss: 0.2089 - 4s/epoch - 3ms/step\n",
      "Epoch 92/100\n",
      "1231/1231 - 5s - loss: 0.2089 - 5s/epoch - 4ms/step\n",
      "Epoch 93/100\n",
      "1231/1231 - 4s - loss: 0.2057 - 4s/epoch - 3ms/step\n",
      "Epoch 94/100\n",
      "1231/1231 - 4s - loss: 0.1999 - 4s/epoch - 3ms/step\n",
      "Epoch 95/100\n",
      "1231/1231 - 4s - loss: 0.1972 - 4s/epoch - 3ms/step\n",
      "Epoch 96/100\n",
      "1231/1231 - 4s - loss: 0.1978 - 4s/epoch - 3ms/step\n",
      "Epoch 97/100\n",
      "1231/1231 - 4s - loss: 0.1933 - 4s/epoch - 3ms/step\n",
      "Epoch 98/100\n",
      "1231/1231 - 4s - loss: 0.1906 - 4s/epoch - 3ms/step\n",
      "Epoch 99/100\n",
      "1231/1231 - 5s - loss: 0.1875 - 5s/epoch - 4ms/step\n",
      "Epoch 100/100\n",
      "1231/1231 - 4s - loss: 0.1857 - 4s/epoch - 3ms/step\n"
     ]
    }
   ],
   "source": [
    "history2 = lstm2.fit(x_train,\n",
    "                   y_train,\n",
    "                   epochs=100,\n",
    "                   batch_size=4,\n",
    "                   verbose=2,\n",
    "                   shuffle=False)"
   ]
  },
  {
   "cell_type": "code",
   "execution_count": null,
   "metadata": {
    "colab": {
     "base_uri": "https://localhost:8080/"
    },
    "executionInfo": {
     "elapsed": 17,
     "status": "ok",
     "timestamp": 1690841936531,
     "user": {
      "displayName": "Clay Roberts",
      "userId": "15262378552571056378"
     },
     "user_tz": 300
    },
    "id": "9GvsqKpIm31E",
    "outputId": "d0bc6180-d9a5-4960-8c01-e36b156270c0"
   },
   "outputs": [
    {
     "name": "stdout",
     "output_type": "stream",
     "text": [
      "{'verbose': 2, 'epochs': 100, 'steps': 1231}\n",
      "dict_keys(['loss'])\n",
      "[12.442158699035645, 149.20059204101562, 8.848190307617188, 2.9058079719543457, 1.5917270183563232, 1.2284600734710693, 1.186629295349121, 1.0879818201065063, 0.9041998982429504, 1.463882327079773, 1.5217753648757935, 1.5462638139724731, 1.5531502962112427, 1.5143985748291016, 1.4868803024291992, 1.3896268606185913, 1.3023943901062012, 1.2023508548736572, 1.0817012786865234, 0.9812783002853394, 0.8809609413146973, 0.7785167098045349, 0.7199115753173828, 0.6626064777374268, 0.5962045192718506, 0.49028509855270386, 0.4453228712081909, 0.4129156172275543, 0.39575430750846863, 0.38267987966537476, 0.37181413173675537, 0.3676271438598633, 0.3654283285140991, 0.3631650507450104, 0.36042946577072144, 0.3574846088886261, 0.3550814688205719, 0.3499302864074707, 0.34660887718200684, 0.3432309329509735, 0.34176814556121826, 0.3386078476905823, 0.33716556429862976, 0.3332408368587494, 0.3298628330230713, 0.32509011030197144, 0.3235704302787781, 0.3197592496871948, 0.3157098889350891, 0.31272798776626587, 0.308719664812088, 0.30347129702568054, 0.29980364441871643, 0.2937120199203491, 0.29288676381111145, 0.28967905044555664, 0.2885907292366028, 0.28438830375671387, 0.2857680916786194, 0.28219228982925415, 0.2816624939441681, 0.2806309461593628, 0.27910441160202026, 0.27746835350990295, 0.27932924032211304, 0.2764054536819458, 0.2725030481815338, 0.2748798429965973, 0.2749239206314087, 0.2749256491661072, 0.2696131467819214, 0.268174409866333, 0.26541876792907715, 0.2615188956260681, 0.2596840262413025, 0.256351113319397, 0.2539530396461487, 0.25080516934394836, 0.24788856506347656, 0.24498103559017181, 0.24115076661109924, 0.23702991008758545, 0.23369678854942322, 0.22762365639209747, 0.2266751527786255, 0.2230091691017151, 0.22149913012981415, 0.21858662366867065, 0.21296313405036926, 0.212759330868721, 0.20891262590885162, 0.2088802009820938, 0.20568935573101044, 0.1999451071023941, 0.19717344641685486, 0.19776780903339386, 0.1932888925075531, 0.19062913954257965, 0.1874879151582718, 0.1856587678194046]\n"
     ]
    }
   ],
   "source": [
    "print(history2.params)\n",
    "print(history2.history.keys())\n",
    "print(history2.history['loss'])"
   ]
  },
  {
   "cell_type": "code",
   "execution_count": null,
   "metadata": {
    "colab": {
     "base_uri": "https://localhost:8080/",
     "height": 427
    },
    "executionInfo": {
     "elapsed": 188,
     "status": "ok",
     "timestamp": 1690841936711,
     "user": {
      "displayName": "Clay Roberts",
      "userId": "15262378552571056378"
     },
     "user_tz": 300
    },
    "id": "FGJiCupRoytb",
    "outputId": "688d8ccc-ca87-42fb-f2d8-e4604ababca9"
   },
   "outputs": [
    {
     "data": {
      "image/png": "[encoded data removed]",
      "text/plain": [
       "<Figure size 1000x500 with 1 Axes>"
      ]
     },
     "metadata": {},
     "output_type": "display_data"
    }
   ],
   "source": [
    "plt.figure(figsize=(10,5))\n",
    "epoch_loss = history2.history['loss']\n",
    "epoch_num = range(0, 100, 1)\n",
    "plt.plot(epoch_num, epoch_loss)\n",
    "\n",
    "plt.xlabel('Epoch Number')\n",
    "plt.ylabel('Loss')\n",
    "plt.xticks(range(0, 100, 5))\n",
    "plt.gcf().autofmt_xdate()\n",
    "plt.show()"
   ]
  },
  {
   "cell_type": "code",
   "execution_count": null,
   "metadata": {
    "colab": {
     "base_uri": "https://localhost:8080/",
     "height": 427
    },
    "executionInfo": {
     "elapsed": 443,
     "status": "ok",
     "timestamp": 1690841937145,
     "user": {
      "displayName": "Clay Roberts",
      "userId": "15262378552571056378"
     },
     "user_tz": 300
    },
    "id": "CRCDymbYo3DD",
    "outputId": "df653353-32ee-42f2-d23c-a09cf24278f6"
   },
   "outputs": [
    {
     "data": {
      "image/png": "[encoded data removed]",
      "text/plain": [
       "<Figure size 1000x500 with 1 Axes>"
      ]
     },
     "metadata": {},
     "output_type": "display_data"
    }
   ],
   "source": [
    "plt.figure(figsize=(10,5))\n",
    "epoch_loss = history2.history['loss'][10:]\n",
    "epoch_num = range(10, 100, 1)\n",
    "plt.plot(epoch_num, epoch_loss)\n",
    "\n",
    "plt.xlabel('Epoch Number')\n",
    "plt.ylabel('Loss')\n",
    "plt.xticks(range(0, 100, 5))\n",
    "plt.gcf().autofmt_xdate()\n",
    "plt.show()"
   ]
  },
  {
   "cell_type": "code",
   "execution_count": null,
   "metadata": {
    "colab": {
     "base_uri": "https://localhost:8080/"
    },
    "executionInfo": {
     "elapsed": 575,
     "status": "ok",
     "timestamp": 1690841937717,
     "user": {
      "displayName": "Clay Roberts",
      "userId": "15262378552571056378"
     },
     "user_tz": 300
    },
    "id": "uJIvDt4To_U1",
    "outputId": "8e6b1591-6db4-42c3-dccf-e90f47ed7141"
   },
   "outputs": [
    {
     "name": "stdout",
     "output_type": "stream",
     "text": [
      "39/39 [==============================] - 0s 2ms/step\n"
     ]
    }
   ],
   "source": [
    "y_pred2 = lstm2.predict(x_test)"
   ]
  },
  {
   "cell_type": "code",
   "execution_count": null,
   "metadata": {
    "colab": {
     "base_uri": "https://localhost:8080/",
     "height": 778
    },
    "executionInfo": {
     "elapsed": 754,
     "status": "ok",
     "timestamp": 1690842142801,
     "user": {
      "displayName": "Clay Roberts",
      "userId": "15262378552571056378"
     },
     "user_tz": 300
    },
    "id": "x2U68wJlpOl7",
    "outputId": "f25f587f-7ece-4e52-9418-2cc01e3274c0"
   },
   "outputs": [
    {
     "data": {
      "image/png": "[encoded data removed]",
      "text/plain": [
       "<Figure size 1500x1000 with 1 Axes>"
      ]
     },
     "metadata": {},
     "output_type": "display_data"
    }
   ],
   "source": [
    "plt.figure(figsize=(15,10))\n",
    "plt.gca().xaxis.set_major_formatter(mdates.DateFormatter('%Y-%m-%d'))\n",
    "plt.gca().xaxis.set_major_locator(mdates.DayLocator(interval=365))\n",
    "x_dates = [dt.datetime.strptime(d, '%Y-%m-%d').date() for d in x_test_date]\n",
    "\n",
    "plt.plot(x_dates[:-1], y_test, label='True Value')\n",
    "plt.plot(x_dates[:-1], y_pred2, label='LSTM Value')\n",
    "plt.ylabel('Scaled USD')\n",
    "plt.legend()\n",
    "plt.gcf().autofmt_xdate()\n",
    "plt.show()"
   ]
  },
  {
   "cell_type": "code",
   "execution_count": null,
   "metadata": {
    "colab": {
     "base_uri": "https://localhost:8080/"
    },
    "executionInfo": {
     "elapsed": 18,
     "status": "ok",
     "timestamp": 1690841938139,
     "user": {
      "displayName": "Clay Roberts",
      "userId": "15262378552571056378"
     },
     "user_tz": 300
    },
    "id": "jP_fEPBkpWDc",
    "outputId": "30b2286e-c9b7-4628-866d-8039d659b6e5"
   },
   "outputs": [
    {
     "name": "stdout",
     "output_type": "stream",
     "text": [
      "RSME: 123.80050629566476\n",
      "MAPE: 0.42011145008765954\n"
     ]
    }
   ],
   "source": [
    "rmse = mean_squared_error(y_test, y_pred2, squared=False)\n",
    "mape = mean_absolute_percentage_error(y_test, y_pred2)\n",
    "print('RSME: ' + str(rmse))\n",
    "print('MAPE: ' + str(mape))"
   ]
  },
  {
   "cell_type": "code",
   "execution_count": null,
   "metadata": {
    "colab": {
     "base_uri": "https://localhost:8080/"
    },
    "executionInfo": {
     "elapsed": 133,
     "status": "ok",
     "timestamp": 1690842515412,
     "user": {
      "displayName": "Clay Roberts",
      "userId": "15262378552571056378"
     },
     "user_tz": 300
    },
    "id": "XXt0Jz9XEL0-",
    "outputId": "10c084ce-db64-4f39-cf4d-92c4cef5835d"
   },
   "outputs": [
    {
     "name": "stdout",
     "output_type": "stream",
     "text": [
      "RSME: 1.483633080197047\n",
      "MAPE: 5.022235075172936\n"
     ]
    }
   ],
   "source": [
    "y_pred2_fit = sc.fit_transform(y_pred2)\n",
    "\n",
    "rmse = mean_squared_error(y_test_fit, y_pred2_fit, squared=False)\n",
    "mape = mean_absolute_percentage_error(y_test_fit, y_pred2_fit)\n",
    "print('RSME: ' + str(rmse))\n",
    "print('MAPE: ' + str(mape))"
   ]
  },
  {
   "cell_type": "markdown",
   "metadata": {
    "id": "EDjqJt3H7tkV"
   },
   "source": [
    "The model did significantly worse, which looks like the result of overfitting on the training data which had far less movement than the testing set. We will again create a new model, but this time we will only increase the number of steps to split."
   ]
  },
  {
   "cell_type": "code",
   "execution_count": null,
   "metadata": {
    "id": "3ofAtWZ0uEZk"
   },
   "outputs": [],
   "source": [
    "x1, y1 = lstm_split(stock_fit_df.values, n_steps = 3)\n",
    "\n",
    "train_split = 0.8\n",
    "split_index = int(np.ceil(len(x1) * train_split))\n",
    "date_index = stock_df.index\n",
    "\n",
    "x_train, x_test = x1[:split_index], x1[split_index:]\n",
    "y_train, y_test = y1[:split_index], y1[split_index:]\n",
    "x_train_date, x_test_date = date_index[:split_index], date_index[split_index:]"
   ]
  },
  {
   "cell_type": "code",
   "execution_count": null,
   "metadata": {
    "colab": {
     "base_uri": "https://localhost:8080/"
    },
    "executionInfo": {
     "elapsed": 205,
     "status": "ok",
     "timestamp": 1690841938501,
     "user": {
      "displayName": "Clay Roberts",
      "userId": "15262378552571056378"
     },
     "user_tz": 300
    },
    "id": "oeb1GtBXu3x9",
    "outputId": "e5e63cc0-9871-4f77-a76b-e5bf5c95fd9f"
   },
   "outputs": [
    {
     "name": "stdout",
     "output_type": "stream",
     "text": [
      "Model: \"sequential_5\"\n",
      "_________________________________________________________________\n",
      " Layer (type)                Output Shape              Param #   \n",
      "=================================================================\n",
      " lstm_7 (LSTM)               (None, 3, 20)             1920      \n",
      "                                                                 \n",
      " dense_5 (Dense)             (None, 3, 1)              21        \n",
      "                                                                 \n",
      "=================================================================\n",
      "Total params: 1,941\n",
      "Trainable params: 1,941\n",
      "Non-trainable params: 0\n",
      "_________________________________________________________________\n"
     ]
    }
   ],
   "source": [
    "lstm3 = Sequential()\n",
    "lstm3.add(LSTM(20,\n",
    "              input_shape=(x_train.shape[1], x_train.shape[2]),\n",
    "              activation='relu',\n",
    "              return_sequences=True))\n",
    "\n",
    "lstm3.add(Dense(1))\n",
    "lstm3.compile(loss='mean_squared_error',\n",
    "             optimizer='adam')\n",
    "lstm3.summary()"
   ]
  },
  {
   "cell_type": "code",
   "execution_count": null,
   "metadata": {
    "colab": {
     "base_uri": "https://localhost:8080/"
    },
    "executionInfo": {
     "elapsed": 83686,
     "status": "ok",
     "timestamp": 1690842022179,
     "user": {
      "displayName": "Clay Roberts",
      "userId": "15262378552571056378"
     },
     "user_tz": 300
    },
    "id": "l2fq8sHdu6b-",
    "outputId": "956ea69f-f845-4734-9686-d18bfbcc69b6"
   },
   "outputs": [
    {
     "name": "stdout",
     "output_type": "stream",
     "text": [
      "Epoch 1/20\n",
      "1231/1231 - 5s - loss: 115.6236 - 5s/epoch - 4ms/step\n",
      "Epoch 2/20\n",
      "1231/1231 - 3s - loss: 281.3719 - 3s/epoch - 2ms/step\n",
      "Epoch 3/20\n",
      "1231/1231 - 3s - loss: 82.4343 - 3s/epoch - 2ms/step\n",
      "Epoch 4/20\n",
      "1231/1231 - 3s - loss: 50.7717 - 3s/epoch - 2ms/step\n",
      "Epoch 5/20\n",
      "1231/1231 - 4s - loss: 38.0933 - 4s/epoch - 3ms/step\n",
      "Epoch 6/20\n",
      "1231/1231 - 3s - loss: 28.6726 - 3s/epoch - 2ms/step\n",
      "Epoch 7/20\n",
      "1231/1231 - 3s - loss: 16.4858 - 3s/epoch - 2ms/step\n",
      "Epoch 8/20\n",
      "1231/1231 - 3s - loss: 6.3705 - 3s/epoch - 2ms/step\n",
      "Epoch 9/20\n",
      "1231/1231 - 4s - loss: 1.8885 - 4s/epoch - 3ms/step\n",
      "Epoch 10/20\n",
      "1231/1231 - 3s - loss: 0.8616 - 3s/epoch - 2ms/step\n",
      "Epoch 11/20\n",
      "1231/1231 - 3s - loss: 0.6098 - 3s/epoch - 2ms/step\n",
      "Epoch 12/20\n",
      "1231/1231 - 3s - loss: 0.5341 - 3s/epoch - 2ms/step\n",
      "Epoch 13/20\n",
      "1231/1231 - 3s - loss: 0.4826 - 3s/epoch - 3ms/step\n",
      "Epoch 14/20\n",
      "1231/1231 - 3s - loss: 0.4310 - 3s/epoch - 2ms/step\n",
      "Epoch 15/20\n",
      "1231/1231 - 3s - loss: 0.3953 - 3s/epoch - 2ms/step\n",
      "Epoch 16/20\n",
      "1231/1231 - 3s - loss: 0.3664 - 3s/epoch - 2ms/step\n",
      "Epoch 17/20\n",
      "1231/1231 - 3s - loss: 0.3433 - 3s/epoch - 2ms/step\n",
      "Epoch 18/20\n",
      "1231/1231 - 4s - loss: 0.3306 - 4s/epoch - 3ms/step\n",
      "Epoch 19/20\n",
      "1231/1231 - 2s - loss: 0.3197 - 2s/epoch - 2ms/step\n",
      "Epoch 20/20\n",
      "1231/1231 - 3s - loss: 0.3129 - 3s/epoch - 2ms/step\n"
     ]
    }
   ],
   "source": [
    "history3 = lstm3.fit(x_train,\n",
    "                   y_train,\n",
    "                   epochs=20,\n",
    "                   batch_size=4,\n",
    "                   verbose=2,\n",
    "                   shuffle=False)"
   ]
  },
  {
   "cell_type": "code",
   "execution_count": null,
   "metadata": {
    "colab": {
     "base_uri": "https://localhost:8080/",
     "height": 427
    },
    "executionInfo": {
     "elapsed": 249,
     "status": "ok",
     "timestamp": 1690842022409,
     "user": {
      "displayName": "Clay Roberts",
      "userId": "15262378552571056378"
     },
     "user_tz": 300
    },
    "id": "OoUUqehYu9Wr",
    "outputId": "5b2f10a9-253d-47a4-ca0e-616b698cdaec"
   },
   "outputs": [
    {
     "data": {
      "image/png": "[encoded data removed]",
      "text/plain": [
       "<Figure size 1000x500 with 1 Axes>"
      ]
     },
     "metadata": {},
     "output_type": "display_data"
    }
   ],
   "source": [
    "plt.figure(figsize=(10,5))\n",
    "epoch_loss = history3.history['loss'][3:]\n",
    "epoch_num = range(5, 22, 1)\n",
    "plt.plot(epoch_num, epoch_loss)\n",
    "\n",
    "plt.xlabel('Epoch Number')\n",
    "plt.ylabel('Loss')\n",
    "plt.xticks(range(0, 100, 5))\n",
    "plt.gcf().autofmt_xdate()\n",
    "plt.show()"
   ]
  },
  {
   "cell_type": "code",
   "execution_count": null,
   "metadata": {
    "colab": {
     "base_uri": "https://localhost:8080/"
    },
    "executionInfo": {
     "elapsed": 312,
     "status": "ok",
     "timestamp": 1690842608038,
     "user": {
      "displayName": "Clay Roberts",
      "userId": "15262378552571056378"
     },
     "user_tz": 300
    },
    "id": "l0T_oAuTu_53",
    "outputId": "ee1af6b7-637f-413c-fdf1-b8ed039a9b86"
   },
   "outputs": [
    {
     "name": "stdout",
     "output_type": "stream",
     "text": [
      "39/39 [==============================] - 0s 2ms/step\n"
     ]
    }
   ],
   "source": [
    "y_pred3 = lstm3.predict(x_test)\n",
    "y_pred3 = [pred[2] for pred in [item for item in y_pred3]]"
   ]
  },
  {
   "cell_type": "code",
   "execution_count": null,
   "metadata": {
    "colab": {
     "base_uri": "https://localhost:8080/"
    },
    "executionInfo": {
     "elapsed": 10,
     "status": "ok",
     "timestamp": 1690842022919,
     "user": {
      "displayName": "Clay Roberts",
      "userId": "15262378552571056378"
     },
     "user_tz": 300
    },
    "id": "WuVkS_sYCnpd",
    "outputId": "085ba541-b1e8-4839-90c8-ec7b2e240813"
   },
   "outputs": [
    {
     "data": {
      "text/plain": [
       "array([[[0.46399887, 0.4458941 , 0.45743908],\n",
       "        [0.4308573 , 0.41314236, 0.41486576],\n",
       "        [0.39475656, 0.41397655, 0.39595688]],\n",
       "\n",
       "       [[0.4308573 , 0.41314236, 0.41486576],\n",
       "        [0.39475656, 0.41397655, 0.39595688],\n",
       "        [0.41443443, 0.41506467, 0.42984945]],\n",
       "\n",
       "       [[0.39475656, 0.41397655, 0.39595688],\n",
       "        [0.41443443, 0.41506467, 0.42984945],\n",
       "        [0.42738037, 0.44959359, 0.44555027]],\n",
       "\n",
       "       ...,\n",
       "\n",
       "       [[5.72929959, 5.75972817, 5.84851242],\n",
       "        [5.68624502, 5.61493892, 5.73694594],\n",
       "        [5.75696685, 5.7650965 , 5.86285423]],\n",
       "\n",
       "       [[5.68624502, 5.61493892, 5.73694594],\n",
       "        [5.75696685, 5.7650965 , 5.86285423],\n",
       "        [5.80653141, 5.70662895, 5.7826896 ]],\n",
       "\n",
       "       [[5.75696685, 5.7650965 , 5.86285423],\n",
       "        [5.80653141, 5.70662895, 5.7826896 ],\n",
       "        [5.78049144, 5.69893975, 5.84579508]]])"
      ]
     },
     "execution_count": 78,
     "metadata": {},
     "output_type": "execute_result"
    }
   ],
   "source": [
    "x_test"
   ]
  },
  {
   "cell_type": "code",
   "execution_count": null,
   "metadata": {
    "colab": {
     "base_uri": "https://localhost:8080/"
    },
    "executionInfo": {
     "elapsed": 8,
     "status": "ok",
     "timestamp": 1690842022920,
     "user": {
      "displayName": "Clay Roberts",
      "userId": "15262378552571056378"
     },
     "user_tz": 300
    },
    "id": "XAxj5snI03fH",
    "outputId": "c773c99f-a0a0-4198-c1ae-e5a1ea91db6d"
   },
   "outputs": [
    {
     "name": "stdout",
     "output_type": "stream",
     "text": [
      "1232\n",
      "1230\n"
     ]
    }
   ],
   "source": [
    "print(len(x_test_date))\n",
    "print(len(y_test))"
   ]
  },
  {
   "cell_type": "code",
   "execution_count": null,
   "metadata": {
    "colab": {
     "base_uri": "https://localhost:8080/",
     "height": 778
    },
    "executionInfo": {
     "elapsed": 512,
     "status": "ok",
     "timestamp": 1690842069793,
     "user": {
      "displayName": "Clay Roberts",
      "userId": "15262378552571056378"
     },
     "user_tz": 300
    },
    "id": "ehlF_s6KvCCm",
    "outputId": "2f171305-7857-47b2-bd51-e684f4b78c3b"
   },
   "outputs": [
    {
     "data": {
      "image/png": "[encoded data removed]",
      "text/plain": [
       "<Figure size 1500x1000 with 1 Axes>"
      ]
     },
     "metadata": {},
     "output_type": "display_data"
    }
   ],
   "source": [
    "plt.figure(figsize=(15,10))\n",
    "plt.gca().xaxis.set_major_formatter(mdates.DateFormatter('%Y-%m-%d'))\n",
    "plt.gca().xaxis.set_major_locator(mdates.DayLocator(interval=365))\n",
    "x_dates = [dt.datetime.strptime(d, '%Y-%m-%d').date() for d in x_test_date]\n",
    "\n",
    "plt.plot(x_dates[:-2], y_test, label='True Value')\n",
    "plt.plot(x_dates[:-2], y_pred3, label='LSTM Value')\n",
    "\n",
    "plt.ylabel('USD')\n",
    "plt.legend()\n",
    "plt.gcf().autofmt_xdate()\n",
    "plt.show()"
   ]
  },
  {
   "cell_type": "code",
   "execution_count": null,
   "metadata": {
    "colab": {
     "base_uri": "https://localhost:8080/"
    },
    "executionInfo": {
     "elapsed": 147,
     "status": "ok",
     "timestamp": 1690842615548,
     "user": {
      "displayName": "Clay Roberts",
      "userId": "15262378552571056378"
     },
     "user_tz": 300
    },
    "id": "zRsrCSdRvFF8",
    "outputId": "a301b6ac-149a-4345-ca59-5639ca8bfc7d"
   },
   "outputs": [
    {
     "name": "stdout",
     "output_type": "stream",
     "text": [
      "RSME: 10.584467218612232\n",
      "MAPE: 0.04782307354196434\n"
     ]
    }
   ],
   "source": [
    "rmse = mean_squared_error(y_test, y_pred3, squared=False)\n",
    "mape = mean_absolute_percentage_error(y_test, y_pred3)\n",
    "print('RSME: ' + str(rmse))\n",
    "print('MAPE: ' + str(mape))"
   ]
  },
  {
   "cell_type": "code",
   "execution_count": null,
   "metadata": {
    "colab": {
     "base_uri": "https://localhost:8080/"
    },
    "executionInfo": {
     "elapsed": 164,
     "status": "ok",
     "timestamp": 1690842690014,
     "user": {
      "displayName": "Clay Roberts",
      "userId": "15262378552571056378"
     },
     "user_tz": 300
    },
    "id": "ynTyyYM-EWBv",
    "outputId": "82ad571b-24c6-418a-823d-a1c5486262f7"
   },
   "outputs": [
    {
     "name": "stdout",
     "output_type": "stream",
     "text": [
      "RSME: 0.05475516247256269\n",
      "MAPE: 0.24951409981899256\n"
     ]
    }
   ],
   "source": [
    "y_arr = y_test.reshape(-1, 1)\n",
    "y_test_fit = sc.fit_transform(y_arr)\n",
    "y_pred3_fit = sc.fit_transform(y_pred3)\n",
    "\n",
    "rmse = mean_squared_error(y_test_fit, y_pred3_fit, squared=False)\n",
    "mape = mean_absolute_percentage_error(y_test_fit, y_pred3_fit)\n",
    "print('RSME: ' + str(rmse))\n",
    "print('MAPE: ' + str(mape))"
   ]
  },
  {
   "cell_type": "code",
   "execution_count": null,
   "metadata": {
    "colab": {
     "base_uri": "https://localhost:8080/"
    },
    "executionInfo": {
     "elapsed": 44,
     "status": "ok",
     "timestamp": 1690842023463,
     "user": {
      "displayName": "Clay Roberts",
      "userId": "15262378552571056378"
     },
     "user_tz": 300
    },
    "id": "7F5h7Tfg8C09",
    "outputId": "bb3da60c-3abc-406a-8f06-ea4a0db58d99"
   },
   "outputs": [
    {
     "data": {
      "text/plain": [
       "(4924, 3, 3)"
      ]
     },
     "execution_count": 82,
     "metadata": {},
     "output_type": "execute_result"
    }
   ],
   "source": [
    "x_train.shape\n"
   ]
  },
  {
   "cell_type": "markdown",
   "metadata": {
    "id": "1SPZ1fU49KqI"
   },
   "source": [
    "We can see that with 3 steps, the model appear to improve accuracy significantly."
   ]
  },
  {
   "cell_type": "markdown",
   "metadata": {
    "id": "ROeqYUKm-5-l"
   },
   "source": [
    "Now what if we only had prices for the once a week, how well does that seem to fit"
   ]
  },
  {
   "cell_type": "code",
   "execution_count": null,
   "metadata": {
    "colab": {
     "base_uri": "https://localhost:8080/"
    },
    "executionInfo": {
     "elapsed": 39,
     "status": "ok",
     "timestamp": 1690842023464,
     "user": {
      "displayName": "Clay Roberts",
      "userId": "15262378552571056378"
     },
     "user_tz": 300
    },
    "id": "hPDW9eSs_eVV",
    "outputId": "407afca0-541c-4205-9fa9-06bfc7f19a91"
   },
   "outputs": [
    {
     "name": "stdout",
     "output_type": "stream",
     "text": [
      "(3, 3)\n",
      "[[5.68624502 5.61493892 5.73694594]\n",
      " [5.75696685 5.7650965  5.86285423]\n",
      " [5.80653141 5.70662895 5.7826896 ]]\n",
      "1/1 [==============================] - 0s 22ms/step\n"
     ]
    }
   ],
   "source": [
    "future = x_test[-2:]\n",
    "future = future[0]\n",
    "print(future.shape)\n",
    "print(future)\n",
    "# print(x_test[-1])\n",
    "y_pred4 = lstm3.predict(np.array([future]))"
   ]
  },
  {
   "cell_type": "code",
   "execution_count": null,
   "metadata": {
    "colab": {
     "base_uri": "https://localhost:8080/"
    },
    "executionInfo": {
     "elapsed": 33,
     "status": "ok",
     "timestamp": 1690842023465,
     "user": {
      "displayName": "Clay Roberts",
      "userId": "15262378552571056378"
     },
     "user_tz": 300
    },
    "id": "msHjK7ogAfrO",
    "outputId": "5720ca74-0bf9-4a60-bbba-ac4a53ecb4c6"
   },
   "outputs": [
    {
     "name": "stdout",
     "output_type": "stream",
     "text": [
      "[393.67908]\n"
     ]
    }
   ],
   "source": [
    "print(y_pred4[0][-1])"
   ]
  },
  {
   "cell_type": "code",
   "execution_count": null,
   "metadata": {
    "colab": {
     "base_uri": "https://localhost:8080/",
     "height": 35
    },
    "executionInfo": {
     "elapsed": 27,
     "status": "ok",
     "timestamp": 1690842023466,
     "user": {
      "displayName": "Clay Roberts",
      "userId": "15262378552571056378"
     },
     "user_tz": 300
    },
    "id": "3QETM6jHEaTn",
    "outputId": "6e103c46-a794-4750-c873-e2a65db57413"
   },
   "outputs": [
    {
     "data": {
      "application/vnd.google.colaboratory.intrinsic+json": {
       "type": "string"
      },
      "text/plain": [
       "'2023-07-03'"
      ]
     },
     "execution_count": 85,
     "metadata": {},
     "output_type": "execute_result"
    }
   ],
   "source": [
    "x_test_date[-6]"
   ]
  },
  {
   "cell_type": "code",
   "execution_count": null,
   "metadata": {
    "colab": {
     "base_uri": "https://localhost:8080/",
     "height": 237
    },
    "executionInfo": {
     "elapsed": 26,
     "status": "ok",
     "timestamp": 1690842023467,
     "user": {
      "displayName": "Clay Roberts",
      "userId": "15262378552571056378"
     },
     "user_tz": 300
    },
    "id": "vdj6EMgnFJy2",
    "outputId": "10d4d370-393f-483f-d0c2-18c4c3093922"
   },
   "outputs": [
    {
     "data": {
      "text/html": [
       "\n",
       "\n",
       "  <div id=\"df-d36e6655-6ece-4283-9e4d-2fdef1946238\">\n",
       "    <div class=\"colab-df-container\">\n",
       "      <div>\n",
       "<style scoped>\n",
       "    .dataframe tbody tr th:only-of-type {\n",
       "        vertical-align: middle;\n",
       "    }\n",
       "\n",
       "    .dataframe tbody tr th {\n",
       "        vertical-align: top;\n",
       "    }\n",
       "\n",
       "    .dataframe thead th {\n",
       "        text-align: right;\n",
       "    }\n",
       "</style>\n",
       "<table border=\"1\" class=\"dataframe\">\n",
       "  <thead>\n",
       "    <tr style=\"text-align: right;\">\n",
       "      <th></th>\n",
       "      <th>Open</th>\n",
       "      <th>High</th>\n",
       "      <th>Low</th>\n",
       "      <th>Close</th>\n",
       "    </tr>\n",
       "    <tr>\n",
       "      <th>Date</th>\n",
       "      <th></th>\n",
       "      <th></th>\n",
       "      <th></th>\n",
       "      <th></th>\n",
       "    </tr>\n",
       "  </thead>\n",
       "  <tbody>\n",
       "    <tr>\n",
       "      <th>2023-07-05</th>\n",
       "      <td>5.729300</td>\n",
       "      <td>5.759728</td>\n",
       "      <td>5.848512</td>\n",
       "      <td>423.170013</td>\n",
       "    </tr>\n",
       "    <tr>\n",
       "      <th>2023-07-06</th>\n",
       "      <td>5.686245</td>\n",
       "      <td>5.614939</td>\n",
       "      <td>5.736946</td>\n",
       "      <td>421.029999</td>\n",
       "    </tr>\n",
       "    <tr>\n",
       "      <th>2023-07-07</th>\n",
       "      <td>5.756967</td>\n",
       "      <td>5.765097</td>\n",
       "      <td>5.862854</td>\n",
       "      <td>425.029999</td>\n",
       "    </tr>\n",
       "    <tr>\n",
       "      <th>2023-07-10</th>\n",
       "      <td>5.806531</td>\n",
       "      <td>5.706629</td>\n",
       "      <td>5.782690</td>\n",
       "      <td>421.799988</td>\n",
       "    </tr>\n",
       "    <tr>\n",
       "      <th>2023-07-11</th>\n",
       "      <td>5.780491</td>\n",
       "      <td>5.698940</td>\n",
       "      <td>5.845795</td>\n",
       "      <td>424.049988</td>\n",
       "    </tr>\n",
       "  </tbody>\n",
       "</table>\n",
       "</div>\n",
       "      <button class=\"colab-df-convert\" onclick=\"convertToInteractive('df-d36e6655-6ece-4283-9e4d-2fdef1946238')\"\n",
       "              title=\"Convert this dataframe to an interactive table.\"\n",
       "              style=\"display:none;\">\n",
       "\n",
       "  <svg xmlns=\"http://www.w3.org/2000/svg\" height=\"24px\"viewBox=\"0 0 24 24\"\n",
       "       width=\"24px\">\n",
       "    <path d=\"M0 0h24v24H0V0z\" fill=\"none\"/>\n",
       "    <path d=\"M18.56 5.44l.94 2.06.94-2.06 2.06-.94-2.06-.94-.94-2.06-.94 2.06-2.06.94zm-11 1L8.5 8.5l.94-2.06 2.06-.94-2.06-.94L8.5 2.5l-.94 2.06-2.06.94zm10 10l.94 2.06.94-2.06 2.06-.94-2.06-.94-.94-2.06-.94 2.06-2.06.94z\"/><path d=\"M17.41 7.96l-1.37-1.37c-.4-.4-.92-.59-1.43-.59-.52 0-1.04.2-1.43.59L10.3 9.45l-7.72 7.72c-.78.78-.78 2.05 0 2.83L4 21.41c.39.39.9.59 1.41.59.51 0 1.02-.2 1.41-.59l7.78-7.78 2.81-2.81c.8-.78.8-2.07 0-2.86zM5.41 20L4 18.59l7.72-7.72 1.47 1.35L5.41 20z\"/>\n",
       "  </svg>\n",
       "      </button>\n",
       "\n",
       "\n",
       "\n",
       "    <div id=\"df-5ec5cc05-3e7f-4781-a8a4-1f4a545b0868\">\n",
       "      <button class=\"colab-df-quickchart\" onclick=\"quickchart('df-5ec5cc05-3e7f-4781-a8a4-1f4a545b0868')\"\n",
       "              title=\"Suggest charts.\"\n",
       "              style=\"display:none;\">\n",
       "\n",
       "<svg xmlns=\"http://www.w3.org/2000/svg\" height=\"24px\"viewBox=\"0 0 24 24\"\n",
       "     width=\"24px\">\n",
       "    <g>\n",
       "        <path d=\"M19 3H5c-1.1 0-2 .9-2 2v14c0 1.1.9 2 2 2h14c1.1 0 2-.9 2-2V5c0-1.1-.9-2-2-2zM9 17H7v-7h2v7zm4 0h-2V7h2v10zm4 0h-2v-4h2v4z\"/>\n",
       "    </g>\n",
       "</svg>\n",
       "      </button>\n",
       "    </div>\n",
       "\n",
       "<style>\n",
       "  .colab-df-quickchart {\n",
       "    background-color: #E8F0FE;\n",
       "    border: none;\n",
       "    border-radius: 50%;\n",
       "    cursor: pointer;\n",
       "    display: none;\n",
       "    fill: #1967D2;\n",
       "    height: 32px;\n",
       "    padding: 0 0 0 0;\n",
       "    width: 32px;\n",
       "  }\n",
       "\n",
       "  .colab-df-quickchart:hover {\n",
       "    background-color: #E2EBFA;\n",
       "    box-shadow: 0px 1px 2px rgba(60, 64, 67, 0.3), 0px 1px 3px 1px rgba(60, 64, 67, 0.15);\n",
       "    fill: #174EA6;\n",
       "  }\n",
       "\n",
       "  [theme=dark] .colab-df-quickchart {\n",
       "    background-color: #3B4455;\n",
       "    fill: #D2E3FC;\n",
       "  }\n",
       "\n",
       "  [theme=dark] .colab-df-quickchart:hover {\n",
       "    background-color: #434B5C;\n",
       "    box-shadow: 0px 1px 3px 1px rgba(0, 0, 0, 0.15);\n",
       "    filter: drop-shadow(0px 1px 2px rgba(0, 0, 0, 0.3));\n",
       "    fill: #FFFFFF;\n",
       "  }\n",
       "</style>\n",
       "\n",
       "    <script>\n",
       "      async function quickchart(key) {\n",
       "        const containerElement = document.querySelector('#' + key);\n",
       "        const charts = await google.colab.kernel.invokeFunction(\n",
       "            'suggestCharts', [key], {});\n",
       "      }\n",
       "    </script>\n",
       "\n",
       "      <script>\n",
       "\n",
       "function displayQuickchartButton(domScope) {\n",
       "  let quickchartButtonEl =\n",
       "    domScope.querySelector('#df-5ec5cc05-3e7f-4781-a8a4-1f4a545b0868 button.colab-df-quickchart');\n",
       "  quickchartButtonEl.style.display =\n",
       "    google.colab.kernel.accessAllowed ? 'block' : 'none';\n",
       "}\n",
       "\n",
       "        displayQuickchartButton(document);\n",
       "      </script>\n",
       "      <style>\n",
       "    .colab-df-container {\n",
       "      display:flex;\n",
       "      flex-wrap:wrap;\n",
       "      gap: 12px;\n",
       "    }\n",
       "\n",
       "    .colab-df-convert {\n",
       "      background-color: #E8F0FE;\n",
       "      border: none;\n",
       "      border-radius: 50%;\n",
       "      cursor: pointer;\n",
       "      display: none;\n",
       "      fill: #1967D2;\n",
       "      height: 32px;\n",
       "      padding: 0 0 0 0;\n",
       "      width: 32px;\n",
       "    }\n",
       "\n",
       "    .colab-df-convert:hover {\n",
       "      background-color: #E2EBFA;\n",
       "      box-shadow: 0px 1px 2px rgba(60, 64, 67, 0.3), 0px 1px 3px 1px rgba(60, 64, 67, 0.15);\n",
       "      fill: #174EA6;\n",
       "    }\n",
       "\n",
       "    [theme=dark] .colab-df-convert {\n",
       "      background-color: #3B4455;\n",
       "      fill: #D2E3FC;\n",
       "    }\n",
       "\n",
       "    [theme=dark] .colab-df-convert:hover {\n",
       "      background-color: #434B5C;\n",
       "      box-shadow: 0px 1px 3px 1px rgba(0, 0, 0, 0.15);\n",
       "      filter: drop-shadow(0px 1px 2px rgba(0, 0, 0, 0.3));\n",
       "      fill: #FFFFFF;\n",
       "    }\n",
       "  </style>\n",
       "\n",
       "      <script>\n",
       "        const buttonEl =\n",
       "          document.querySelector('#df-d36e6655-6ece-4283-9e4d-2fdef1946238 button.colab-df-convert');\n",
       "        buttonEl.style.display =\n",
       "          google.colab.kernel.accessAllowed ? 'block' : 'none';\n",
       "\n",
       "        async function convertToInteractive(key) {\n",
       "          const element = document.querySelector('#df-d36e6655-6ece-4283-9e4d-2fdef1946238');\n",
       "          const dataTable =\n",
       "            await google.colab.kernel.invokeFunction('convertToInteractive',\n",
       "                                                     [key], {});\n",
       "          if (!dataTable) return;\n",
       "\n",
       "          const docLinkHtml = 'Like what you see? Visit the ' +\n",
       "            '<a target=\"_blank\" href=https://colab.research.google.com/notebooks/data_table.ipynb>data table notebook</a>'\n",
       "            + ' to learn more about interactive tables.';\n",
       "          element.innerHTML = '';\n",
       "          dataTable['output_type'] = 'display_data';\n",
       "          await google.colab.output.renderOutput(dataTable, element);\n",
       "          const docLink = document.createElement('div');\n",
       "          docLink.innerHTML = docLinkHtml;\n",
       "          element.appendChild(docLink);\n",
       "        }\n",
       "      </script>\n",
       "    </div>\n",
       "  </div>\n"
      ],
      "text/plain": [
       "                Open      High       Low       Close\n",
       "Date                                                \n",
       "2023-07-05  5.729300  5.759728  5.848512  423.170013\n",
       "2023-07-06  5.686245  5.614939  5.736946  421.029999\n",
       "2023-07-07  5.756967  5.765097  5.862854  425.029999\n",
       "2023-07-10  5.806531  5.706629  5.782690  421.799988\n",
       "2023-07-11  5.780491  5.698940  5.845795  424.049988"
      ]
     },
     "execution_count": 86,
     "metadata": {},
     "output_type": "execute_result"
    }
   ],
   "source": [
    "stock_fit_df.tail()"
   ]
  },
  {
   "cell_type": "code",
   "execution_count": null,
   "metadata": {
    "colab": {
     "base_uri": "https://localhost:8080/",
     "height": 237
    },
    "executionInfo": {
     "elapsed": 24,
     "status": "ok",
     "timestamp": 1690842023467,
     "user": {
      "displayName": "Clay Roberts",
      "userId": "15262378552571056378"
     },
     "user_tz": 300
    },
    "id": "fcrIJ5ibHxd_",
    "outputId": "4eecd18a-6465-4faf-cf02-184af8b970b8"
   },
   "outputs": [
    {
     "data": {
      "text/html": [
       "\n",
       "\n",
       "  <div id=\"df-d7352bd8-e909-489a-b2cf-444034d4a0a9\">\n",
       "    <div class=\"colab-df-container\">\n",
       "      <div>\n",
       "<style scoped>\n",
       "    .dataframe tbody tr th:only-of-type {\n",
       "        vertical-align: middle;\n",
       "    }\n",
       "\n",
       "    .dataframe tbody tr th {\n",
       "        vertical-align: top;\n",
       "    }\n",
       "\n",
       "    .dataframe thead th {\n",
       "        text-align: right;\n",
       "    }\n",
       "</style>\n",
       "<table border=\"1\" class=\"dataframe\">\n",
       "  <thead>\n",
       "    <tr style=\"text-align: right;\">\n",
       "      <th></th>\n",
       "      <th>Open</th>\n",
       "      <th>High</th>\n",
       "      <th>Low</th>\n",
       "      <th>Close</th>\n",
       "      <th>Adj Close</th>\n",
       "      <th>Volume</th>\n",
       "    </tr>\n",
       "    <tr>\n",
       "      <th>Date</th>\n",
       "      <th></th>\n",
       "      <th></th>\n",
       "      <th></th>\n",
       "      <th></th>\n",
       "      <th></th>\n",
       "      <th></th>\n",
       "    </tr>\n",
       "  </thead>\n",
       "  <tbody>\n",
       "    <tr>\n",
       "      <th>2023-07-05</th>\n",
       "      <td>421.350006</td>\n",
       "      <td>431.769989</td>\n",
       "      <td>420.850006</td>\n",
       "      <td>423.170013</td>\n",
       "      <td>423.170013</td>\n",
       "      <td>32361800</td>\n",
       "    </tr>\n",
       "    <tr>\n",
       "      <th>2023-07-06</th>\n",
       "      <td>418.440002</td>\n",
       "      <td>421.790009</td>\n",
       "      <td>413.459991</td>\n",
       "      <td>421.029999</td>\n",
       "      <td>421.029999</td>\n",
       "      <td>30358200</td>\n",
       "    </tr>\n",
       "    <tr>\n",
       "      <th>2023-07-07</th>\n",
       "      <td>423.220001</td>\n",
       "      <td>432.140015</td>\n",
       "      <td>421.799988</td>\n",
       "      <td>425.029999</td>\n",
       "      <td>425.029999</td>\n",
       "      <td>35525300</td>\n",
       "    </tr>\n",
       "    <tr>\n",
       "      <th>2023-07-10</th>\n",
       "      <td>426.570007</td>\n",
       "      <td>428.109985</td>\n",
       "      <td>416.489990</td>\n",
       "      <td>421.799988</td>\n",
       "      <td>421.799988</td>\n",
       "      <td>35390800</td>\n",
       "    </tr>\n",
       "    <tr>\n",
       "      <th>2023-07-11</th>\n",
       "      <td>424.809998</td>\n",
       "      <td>427.579987</td>\n",
       "      <td>420.670013</td>\n",
       "      <td>424.049988</td>\n",
       "      <td>424.049988</td>\n",
       "      <td>29777500</td>\n",
       "    </tr>\n",
       "  </tbody>\n",
       "</table>\n",
       "</div>\n",
       "      <button class=\"colab-df-convert\" onclick=\"convertToInteractive('df-d7352bd8-e909-489a-b2cf-444034d4a0a9')\"\n",
       "              title=\"Convert this dataframe to an interactive table.\"\n",
       "              style=\"display:none;\">\n",
       "\n",
       "  <svg xmlns=\"http://www.w3.org/2000/svg\" height=\"24px\"viewBox=\"0 0 24 24\"\n",
       "       width=\"24px\">\n",
       "    <path d=\"M0 0h24v24H0V0z\" fill=\"none\"/>\n",
       "    <path d=\"M18.56 5.44l.94 2.06.94-2.06 2.06-.94-2.06-.94-.94-2.06-.94 2.06-2.06.94zm-11 1L8.5 8.5l.94-2.06 2.06-.94-2.06-.94L8.5 2.5l-.94 2.06-2.06.94zm10 10l.94 2.06.94-2.06 2.06-.94-2.06-.94-.94-2.06-.94 2.06-2.06.94z\"/><path d=\"M17.41 7.96l-1.37-1.37c-.4-.4-.92-.59-1.43-.59-.52 0-1.04.2-1.43.59L10.3 9.45l-7.72 7.72c-.78.78-.78 2.05 0 2.83L4 21.41c.39.39.9.59 1.41.59.51 0 1.02-.2 1.41-.59l7.78-7.78 2.81-2.81c.8-.78.8-2.07 0-2.86zM5.41 20L4 18.59l7.72-7.72 1.47 1.35L5.41 20z\"/>\n",
       "  </svg>\n",
       "      </button>\n",
       "\n",
       "\n",
       "\n",
       "    <div id=\"df-e25f6750-13ed-46c4-ac90-06cadad3907a\">\n",
       "      <button class=\"colab-df-quickchart\" onclick=\"quickchart('df-e25f6750-13ed-46c4-ac90-06cadad3907a')\"\n",
       "              title=\"Suggest charts.\"\n",
       "              style=\"display:none;\">\n",
       "\n",
       "<svg xmlns=\"http://www.w3.org/2000/svg\" height=\"24px\"viewBox=\"0 0 24 24\"\n",
       "     width=\"24px\">\n",
       "    <g>\n",
       "        <path d=\"M19 3H5c-1.1 0-2 .9-2 2v14c0 1.1.9 2 2 2h14c1.1 0 2-.9 2-2V5c0-1.1-.9-2-2-2zM9 17H7v-7h2v7zm4 0h-2V7h2v10zm4 0h-2v-4h2v4z\"/>\n",
       "    </g>\n",
       "</svg>\n",
       "      </button>\n",
       "    </div>\n",
       "\n",
       "<style>\n",
       "  .colab-df-quickchart {\n",
       "    background-color: #E8F0FE;\n",
       "    border: none;\n",
       "    border-radius: 50%;\n",
       "    cursor: pointer;\n",
       "    display: none;\n",
       "    fill: #1967D2;\n",
       "    height: 32px;\n",
       "    padding: 0 0 0 0;\n",
       "    width: 32px;\n",
       "  }\n",
       "\n",
       "  .colab-df-quickchart:hover {\n",
       "    background-color: #E2EBFA;\n",
       "    box-shadow: 0px 1px 2px rgba(60, 64, 67, 0.3), 0px 1px 3px 1px rgba(60, 64, 67, 0.15);\n",
       "    fill: #174EA6;\n",
       "  }\n",
       "\n",
       "  [theme=dark] .colab-df-quickchart {\n",
       "    background-color: #3B4455;\n",
       "    fill: #D2E3FC;\n",
       "  }\n",
       "\n",
       "  [theme=dark] .colab-df-quickchart:hover {\n",
       "    background-color: #434B5C;\n",
       "    box-shadow: 0px 1px 3px 1px rgba(0, 0, 0, 0.15);\n",
       "    filter: drop-shadow(0px 1px 2px rgba(0, 0, 0, 0.3));\n",
       "    fill: #FFFFFF;\n",
       "  }\n",
       "</style>\n",
       "\n",
       "    <script>\n",
       "      async function quickchart(key) {\n",
       "        const containerElement = document.querySelector('#' + key);\n",
       "        const charts = await google.colab.kernel.invokeFunction(\n",
       "            'suggestCharts', [key], {});\n",
       "      }\n",
       "    </script>\n",
       "\n",
       "      <script>\n",
       "\n",
       "function displayQuickchartButton(domScope) {\n",
       "  let quickchartButtonEl =\n",
       "    domScope.querySelector('#df-e25f6750-13ed-46c4-ac90-06cadad3907a button.colab-df-quickchart');\n",
       "  quickchartButtonEl.style.display =\n",
       "    google.colab.kernel.accessAllowed ? 'block' : 'none';\n",
       "}\n",
       "\n",
       "        displayQuickchartButton(document);\n",
       "      </script>\n",
       "      <style>\n",
       "    .colab-df-container {\n",
       "      display:flex;\n",
       "      flex-wrap:wrap;\n",
       "      gap: 12px;\n",
       "    }\n",
       "\n",
       "    .colab-df-convert {\n",
       "      background-color: #E8F0FE;\n",
       "      border: none;\n",
       "      border-radius: 50%;\n",
       "      cursor: pointer;\n",
       "      display: none;\n",
       "      fill: #1967D2;\n",
       "      height: 32px;\n",
       "      padding: 0 0 0 0;\n",
       "      width: 32px;\n",
       "    }\n",
       "\n",
       "    .colab-df-convert:hover {\n",
       "      background-color: #E2EBFA;\n",
       "      box-shadow: 0px 1px 2px rgba(60, 64, 67, 0.3), 0px 1px 3px 1px rgba(60, 64, 67, 0.15);\n",
       "      fill: #174EA6;\n",
       "    }\n",
       "\n",
       "    [theme=dark] .colab-df-convert {\n",
       "      background-color: #3B4455;\n",
       "      fill: #D2E3FC;\n",
       "    }\n",
       "\n",
       "    [theme=dark] .colab-df-convert:hover {\n",
       "      background-color: #434B5C;\n",
       "      box-shadow: 0px 1px 3px 1px rgba(0, 0, 0, 0.15);\n",
       "      filter: drop-shadow(0px 1px 2px rgba(0, 0, 0, 0.3));\n",
       "      fill: #FFFFFF;\n",
       "    }\n",
       "  </style>\n",
       "\n",
       "      <script>\n",
       "        const buttonEl =\n",
       "          document.querySelector('#df-d7352bd8-e909-489a-b2cf-444034d4a0a9 button.colab-df-convert');\n",
       "        buttonEl.style.display =\n",
       "          google.colab.kernel.accessAllowed ? 'block' : 'none';\n",
       "\n",
       "        async function convertToInteractive(key) {\n",
       "          const element = document.querySelector('#df-d7352bd8-e909-489a-b2cf-444034d4a0a9');\n",
       "          const dataTable =\n",
       "            await google.colab.kernel.invokeFunction('convertToInteractive',\n",
       "                                                     [key], {});\n",
       "          if (!dataTable) return;\n",
       "\n",
       "          const docLinkHtml = 'Like what you see? Visit the ' +\n",
       "            '<a target=\"_blank\" href=https://colab.research.google.com/notebooks/data_table.ipynb>data table notebook</a>'\n",
       "            + ' to learn more about interactive tables.';\n",
       "          element.innerHTML = '';\n",
       "          dataTable['output_type'] = 'display_data';\n",
       "          await google.colab.output.renderOutput(dataTable, element);\n",
       "          const docLink = document.createElement('div');\n",
       "          docLink.innerHTML = docLinkHtml;\n",
       "          element.appendChild(docLink);\n",
       "        }\n",
       "      </script>\n",
       "    </div>\n",
       "  </div>\n"
      ],
      "text/plain": [
       "                  Open        High         Low       Close   Adj Close  \\\n",
       "Date                                                                     \n",
       "2023-07-05  421.350006  431.769989  420.850006  423.170013  423.170013   \n",
       "2023-07-06  418.440002  421.790009  413.459991  421.029999  421.029999   \n",
       "2023-07-07  423.220001  432.140015  421.799988  425.029999  425.029999   \n",
       "2023-07-10  426.570007  428.109985  416.489990  421.799988  421.799988   \n",
       "2023-07-11  424.809998  427.579987  420.670013  424.049988  424.049988   \n",
       "\n",
       "              Volume  \n",
       "Date                  \n",
       "2023-07-05  32361800  \n",
       "2023-07-06  30358200  \n",
       "2023-07-07  35525300  \n",
       "2023-07-10  35390800  \n",
       "2023-07-11  29777500  "
      ]
     },
     "execution_count": 87,
     "metadata": {},
     "output_type": "execute_result"
    }
   ],
   "source": [
    "stock_df.tail()"
   ]
  },
  {
   "cell_type": "code",
   "execution_count": null,
   "metadata": {
    "id": "3kXribCUHysH"
   },
   "outputs": [],
   "source": []
  }
 ],
 "metadata": {
  "colab": {
   "name": "",
   "version": ""
  },
  "kernelspec": {
   "display_name": "Python 3 (ipykernel)",
   "language": "python",
   "name": "python3"
  },
  "language_info": {
   "codemirror_mode": {
    "name": "ipython",
    "version": 3
   },
   "file_extension": ".py",
   "mimetype": "text/x-python",
   "name": "python",
   "nbconvert_exporter": "python",
   "pygments_lexer": "ipython3",
   "version": "3.10.12"
  }
 },
 "nbformat": 4,
 "nbformat_minor": 4
}
