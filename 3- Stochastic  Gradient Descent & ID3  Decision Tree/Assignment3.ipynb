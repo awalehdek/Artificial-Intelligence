{
 "cells": [
  {
   "cell_type": "markdown",
   "metadata": {
    "id": "9wUL_Fy5qUDI"
   },
   "source": [
    "# Assignment-3\n",
    "\n",
    "**Last Name - First Name - (abc123)**\n",
    "\n",
    "\n",
    "\n",
    "\n"
   ]
  },
  {
   "cell_type": "markdown",
   "metadata": {
    "id": "NM8b9KVYsETT"
   },
   "source": [
    "## Learning Objectives\n",
    "\n",
    "Implement 2 different machine learning algorithms\n",
    "*   Stochastic Gradient Descent\n",
    "*   ID3 Decision Tree\n"
   ]
  },
  {
   "cell_type": "markdown",
   "metadata": {
    "id": "LzR4Ic34zJlT"
   },
   "source": [
    "\n",
    "## Description\n",
    "\n",
    "This assignment is focused on **machine learning**, mainly on the implementation of 2 different algorithms - Stochastic Gradient Descent & ID3 decision tree. \n",
    "The assignment is divided into two sections, each for one unique ML algorithm. \n",
    "\n",
    "The base structure and comments are provided on what should be done. You can use some libraries that help support you for the successful completion of the assignment. However, you **CANNOT** use a complete library that contains the implementation of ML algorithms. You can get pieces of code from online, but please cite the source properly.\n"
   ]
  },
  {
   "cell_type": "markdown",
   "metadata": {
    "id": "vnPfmHAOteOI"
   },
   "source": [
    "##Import Libraries\n",
    "\n",
    "Write all the import statements here. This should be for both algorithm implmentations. As mentioned before, you can not use any premade ML libraries."
   ]
  },
  {
   "cell_type": "code",
   "execution_count": 22,
   "metadata": {
    "id": "f9apbZGptej6"
   },
   "outputs": [],
   "source": [
    "# import all required libraries\n",
    "import numpy as np\n",
    "import math\n",
    "import pandas as pd\n"
   ]
  },
  {
   "cell_type": "code",
   "execution_count": 23,
   "metadata": {
    "id": "fdqXyFZ95P0j"
   },
   "outputs": [],
   "source": [
    "# Assume that the data files are in the following folder -- THIS WILL BE USED BY THE TA\n",
    "basePath = \"/content/drive/My Drive/Colab Notebooks/Artificial Intelligence/Data/\"\n"
   ]
  },
  {
   "cell_type": "markdown",
   "metadata": {
    "id": "YeYRnesWqvLm"
   },
   "source": [
    "#Stochastic Gradient Descent\n",
    "\n",
    "In this section, you will implement the Stochastic Gradient Descent algorithm. The training is for a **binary classification** task i.e. each instance will have a class value of 0 or 1. Also, assume that you are given **all binary-valued attributes** and that there are **no missing values** in the train or test data. \n"
   ]
  },
  {
   "cell_type": "markdown",
   "metadata": {
    "id": "IUVZIK6ctMi4"
   },
   "source": [
    "##Algorithm\n",
    "\n",
    "(40 points)\n",
    "\n",
    "Following are the data files that will be provided to you for the gradient descent algorithm implementation.\n",
    "\n",
    "*   Training file - 'gd-train.dat'\n",
    "*   Testing file - 'gd-test.dat'\n",
    "\n",
    "In these files, only non-space characters are relevant. The first line contains the attribute names. All the other lines are different example instances to be used for the algorithm. Each column holds values of the attributes, whereas the last column holds the class label for that instance.\n",
    "\n",
    "Write the code in the following code block, structure is provided. Instructions on the steps to follow are provided as comments.\n",
    "\n"
   ]
  },
  {
   "cell_type": "code",
   "execution_count": 24,
   "metadata": {
    "id": "2XoSqVJG5FkG"
   },
   "outputs": [],
   "source": [
    "# Data file name variables\n",
    "train = basePath + \"gd-train.dat\"\n",
    "test = basePath + \"gd-test.dat\"\n",
    "train1 = \"gd-train.dat\"\n",
    "test1 = \"gd-test.dat\""
   ]
  },
  {
   "cell_type": "code",
   "execution_count": 25,
   "metadata": {
    "id": "l73PTZtCPdxj"
   },
   "outputs": [],
   "source": [
    "# Read the training and testing data files\n",
    "def read_data(filename):\n",
    "    with open(filename, 'r') as file:\n",
    "        lines = file.readlines()\n",
    "\n",
    "    # Initialize empty lists to store features and labels\n",
    "    features = []\n",
    "    labels = []\n",
    "\n",
    "    # Skip the header line\n",
    "    for line in lines[1:]:\n",
    "        data = line.strip().split('\\t')\n",
    "        try:\n",
    "            label = int(data[-1])\n",
    "\n",
    "            features.append(list(map(int, data[:-1])))\n",
    "            labels.append(label)\n",
    "        except ValueError:\n",
    "            continue\n",
    "            print(f\"Warning: Invalid data point with label '{data[-1]}' is skipped.\")\n",
    "\n",
    "    # Convert lists to numpy arrays for easier manipulation\n",
    "\n",
    "    #print(\"lab:\\n\",label)\n",
    "    #print(\"feature:\\n\",features)\n",
    "    X = np.array(features)\n",
    "    y = np.array(labels)\n",
    "    #print(\"X\",X)\n",
    "    #print(\"y\",y)\n",
    "\n",
    "    return X, y\n"
   ]
  },
  {
   "cell_type": "code",
   "execution_count": 26,
   "metadata": {
    "id": "VN3FC2qcPfcR"
   },
   "outputs": [],
   "source": [
    "# Activation Function - implement Sigmoid\n",
    "def activation_function(h):\n",
    "    # given 'h' compute and return 'z' based on the activation function implemented\n",
    "    return 1 / (1 + math.exp(-h))"
   ]
  },
  {
   "cell_type": "code",
   "execution_count": 27,
   "metadata": {
    "id": "V5njAQvmPmOC"
   },
   "outputs": [],
   "source": [
    "# Train the model using the given training dataset and the learning rate\n",
    "# return the \"weights\" learnt for the perceptron - include the weight assocaited with bias as the last entry\n",
    "def train(train_data, learning_rate=0.05):\n",
    "    # initialize weights to 0\n",
    "    # go through each training data instance\n",
    "        # get 'x' as one multi-variate data instance and 'y' as the ground truth class label\n",
    "        # obtain h(x)\n",
    "        # call the activation function with 'h' as parameter to obtain 'z'\n",
    "        # update all weights individually using learning_rate, (y-z), and the corresponding 'x'\n",
    "    # return the final learnt weights\n",
    "    \n",
    "    # Excluding the last column which contains labels\n",
    "    num_features = len(train_data[0]) - 1\n",
    "    num_instances = len(train_data)\n",
    "\n",
    "    # Initialize weights (including bias weight) to zeros\n",
    "    weights = [0.0] * (num_features + 1)\n",
    "    #print(\"weights:\", weights)\n",
    "\n",
    "\n",
    "    # Initialize weights (including bias weight) to zeros\n",
    "    weights = [0.0] * (num_features + 1)\n",
    "    #print(\"weights:\", weights)\n",
    "\n",
    "    for num_feature in range(num_features):\n",
    "        for i in range(num_instances):\n",
    "            # Get one data instance and the corresponding true label\n",
    "            x = train_data[i][:-1]\n",
    "            y_true = train_data[i][-1]\n",
    "\n",
    "            # Compute h(x) = sum(w_i * x_i) + bias\n",
    "            h = sum(w_i * x_i for w_i, x_i in zip(weights[:-1], x)) + weights[-1]\n",
    "\n",
    "            # Apply activation function (sigmoid)\n",
    "            z = activation_function(h)\n",
    "\n",
    "            # Update the weights based on the error\n",
    "            error = y_true - z\n",
    "            weights[:-1] = [w_i + learning_rate * error * x_i for w_i, x_i in zip(weights[:-1], x)]\n",
    "            weights[-1] += learning_rate * error  # Update bias weight\n",
    "\n",
    "    return weights"
   ]
  },
  {
   "cell_type": "code",
   "execution_count": 28,
   "metadata": {
    "id": "Gx98kNxDPq5B"
   },
   "outputs": [],
   "source": [
    "# Test the model (weights learnt) using the given test dataset\n",
    "# return the accuracy value\n",
    "def test(test_data, weights, threshold):\n",
    "    # go through each testing data instance\n",
    "        # get 'x' as one multi-variate data instance and 'y' as the ground truth class label\n",
    "        # obtain h(x)\n",
    "        # call the activation function with 'h' as parameter to obtain 'z'\n",
    "        # use 'threshold' to convert 'z' to either 0 or 1 so as to match to the ground truth binary labels\n",
    "        # compare the thresholded 'z' with 'y' to calculate the positive and negative instances for calculating accuracy\n",
    "    # return the accuracy value for the given test dataset\n",
    "    \n",
    "\n",
    "    \n",
    "    num_features = len(test_data[0]) - 1  # Excluding the last column which contains labels\n",
    "    num_instances = len(test_data)\n",
    "\n",
    "    # Extract features and labels from the test data\n",
    "    X_test = [instance[:-1] for instance in test_data]\n",
    "    y_test = [instance[-1] for instance in test_data]\n",
    "\n",
    "    # Initialize variables to track correct predictions\n",
    "    correct_predictions = 0\n",
    "\n",
    "    for i in range(num_instances):\n",
    "        # Get one data instance and the corresponding true label\n",
    "        x = X_test[i]\n",
    "        y_true = y_test[i]\n",
    "\n",
    "        # Compute h(x) = sum(w_i * x_i) + bias\n",
    "        h = sum(w_i * x_i for w_i, x_i in zip(weights[:-1], x)) + weights[-1]\n",
    "\n",
    "        # Apply activation function (sigmoid)\n",
    "        z = activation_function(h)\n",
    "\n",
    "        # Apply threshold to convert 'z' to either 0 or 1\n",
    "        y_pred = 1 if z >= threshold else 0\n",
    "\n",
    "        # Compare the thresholded 'z' with 'y' to calculate accuracy\n",
    "        if y_pred == y_true:\n",
    "            correct_predictions += 1\n",
    "\n",
    "    # Calculate accuracy as the ratio of correct predictions to the total number of instances\n",
    "    accuracy = correct_predictions / num_instances\n",
    "    return accuracy\n",
    "\n"
   ]
  },
  {
   "cell_type": "code",
   "execution_count": 29,
   "metadata": {
    "id": "_5B6IG0APxH4"
   },
   "outputs": [],
   "source": [
    "# Gradient Descent function\n",
    "def gradient_descent(df_train, df_test, learning_rate=0.05, threshold=0.5):\n",
    "    # call the train function to train the model and obtain the weights\n",
    "    # call the test function with the training dataset to obtain the training accuracy\n",
    "    # call the test function with the testing dataset to obtain the testing accuracy\n",
    "    # return (trainAccuracy, testAccuracy)\n",
    "    \n",
    "\n",
    "    weights = train(df_train, learning_rate)\n",
    "\n",
    "    # Call the test function with the training dataset to obtain the training accuracy\n",
    "    train_accuracy = test(df_train, weights, threshold)\n",
    "\n",
    "    # Call the test function with the testing dataset to obtain the testing accuracy\n",
    "    test_accuracy = test(df_test, weights, threshold)\n",
    "\n",
    "    # Return the training accuracy and testing accuracy as a tuple\n",
    "    return train_accuracy, test_accuracy"
   ]
  },
  {
   "cell_type": "code",
   "execution_count": 30,
   "metadata": {
    "id": "MB_b5ButP3w3"
   },
   "outputs": [],
   "source": [
    "# Threshold of 0.5 will be used to classify the instance for the test. If the value is >= 0.5, classify as 1 or else 0.\n",
    "threshold = 0.5\n"
   ]
  },
  {
   "cell_type": "code",
   "execution_count": 40,
   "metadata": {
    "id": "YdPwgSBOtb1P"
   },
   "outputs": [
    {
     "name": "stdout",
     "output_type": "stream",
     "text": [
      "Stochastic Gradient Descent\n",
      "\n",
      "\n",
      "\n",
      "Accuracy for LR of 0.05 on Training data = 0.7600\n",
      "Accuracy for LR of 0.05 on Testing data = 0.6825\n",
      "Accuracy for LR of 0.1 on Training data = 0.7600\n",
      "Accuracy for LR of 0.1 on Testing data = 0.6825\n",
      "Accuracy for LR of 0.15 on Training data = 0.7600\n",
      "Accuracy for LR of 0.15 on Testing data = 0.6825\n",
      "Accuracy for LR of 0.2 on Training data = 0.7600\n",
      "Accuracy for LR of 0.2 on Testing data = 0.6825\n",
      "Accuracy for LR of 0.25 on Training data = 0.7600\n",
      "Accuracy for LR of 0.25 on Testing data = 0.6825\n",
      "Accuracy for LR of 0.3 on Training data = 0.7600\n",
      "Accuracy for LR of 0.3 on Testing data = 0.6825\n",
      "Accuracy for LR of 0.35 on Training data = 0.7600\n",
      "Accuracy for LR of 0.35 on Testing data = 0.6825\n",
      "Accuracy for LR of 0.4 on Training data = 0.7600\n",
      "Accuracy for LR of 0.4 on Testing data = 0.6825\n",
      "Accuracy for LR of 0.45 on Training data = 0.7600\n",
      "Accuracy for LR of 0.45 on Testing data = 0.6825\n",
      "Accuracy for LR of 0.5 on Training data = 0.7600\n",
      "Accuracy for LR of 0.5 on Testing data = 0.6825\n",
      "Accuracy for LR of 0.55 on Training data = 0.7600\n",
      "Accuracy for LR of 0.55 on Testing data = 0.6825\n",
      "Accuracy for LR of 0.6 on Training data = 0.7600\n",
      "Accuracy for LR of 0.6 on Testing data = 0.6825\n",
      "Accuracy for LR of 0.65 on Training data = 0.7600\n",
      "Accuracy for LR of 0.65 on Testing data = 0.6825\n",
      "Accuracy for LR of 0.7 on Training data = 0.7600\n",
      "Accuracy for LR of 0.7 on Testing data = 0.6825\n",
      "Accuracy for LR of 0.75 on Training data = 0.7600\n",
      "Accuracy for LR of 0.75 on Testing data = 0.6825\n",
      "Accuracy for LR of 0.8 on Training data = 0.7600\n",
      "Accuracy for LR of 0.8 on Testing data = 0.6825\n",
      "Accuracy for LR of 0.85 on Training data = 0.7600\n",
      "Accuracy for LR of 0.85 on Testing data = 0.6825\n",
      "Accuracy for LR of 0.9 on Training data = 0.7600\n",
      "Accuracy for LR of 0.9 on Testing data = 0.6825\n",
      "Accuracy for LR of 0.95 on Training data = 0.7600\n",
      "Accuracy for LR of 0.95 on Testing data = 0.6825\n",
      "Accuracy for LR of 1.0 on Training data = 0.7600\n",
      "Accuracy for LR of 1.0 on Testing data = 0.6825\n"
     ]
    }
   ],
   "source": [
    "# Main algorithm loop\n",
    "# Loop through all the different learning rates [0.05, 1]\n",
    "    # For each learning rate selected, call the gradient descent function to obtain the train and test accuracy values\n",
    "    # Print both the accuracy values as \"Accuracy for LR of 0.1 on Training set = x %\" OR \"Accuracy for LR of 0.1 on Testing set = x %\"\n",
    "\n",
    "\n",
    "\n",
    "# Read the data from the file\n",
    "filename = \"/content/drive/MyDrive/data/gd-train.dat\"\n",
    "\n",
    "X, y = read_data(train1)\n",
    "\n",
    "# Combine features and labels into a single array\n",
    "#train_data = list(zip(X, y))\n",
    "train_data = np.column_stack((X, y))\n",
    "\n",
    "# Read the data from the file\n",
    "filename_1 = \"/content/drive/MyDrive/data/gd-test.dat\"\n",
    "X_test, y_test = read_data(test1)\n",
    "\n",
    "# Combine features and labels into a single array for test data\n",
    "test_data = np.column_stack((X_test, y_test))\n",
    "\n",
    "\n",
    "# Define the learning rates to loop through\n",
    "#learning_rates =[0.05, 0.1, 0.15, 0.2, 0.25, 0.3, 0.35, 0.4, 0.45, 0.5, 0.55, 0.6, 0.65, 0.7, 0.75, 0.8, 0.85, 0.9, 0.95, 1.0]\n",
    "learning_rates = [lr/100 for lr in range(5, 105, 5)]\n",
    "\n",
    "print(\"Stochastic Gradient Descent\\n\\n\\n\")\n",
    "# Loop through all the different learning rates\n",
    "for learning_rate in learning_rates:\n",
    "    # Call the gradient_descent function to obtain the train and test accuracy values\n",
    "    train_accuracy, test_accuracy = gradient_descent(train_data, test_data, learning_rate=0.05, threshold=0.5)\n",
    "\n",
    "    # Print both the accuracy values\n",
    "    print(f\"Accuracy for LR of {learning_rate} on Training data = {train_accuracy :.4f}\")\n",
    "    print(f\"Accuracy for LR of {learning_rate} on Testing data = {test_accuracy :.4f}\")\n",
    "\n",
    "\n",
    "\n"
   ]
  },
  {
   "cell_type": "markdown",
   "metadata": {
    "id": "lYxmgcnes9cS"
   },
   "source": [
    "##Extra Credit - Accuracy Plots\n",
    "\n",
    "(05 points)\n",
    "\n",
    "Use the above accuracy results on the training and testing data and write code to plot the graphs as mentioned in the code block below.\n",
    "\n"
   ]
  },
  {
   "cell_type": "code",
   "execution_count": 41,
   "metadata": {
    "id": "fbBNakSDq0Wv"
   },
   "outputs": [],
   "source": [
    "# Plot the graphs for accuracy results.\n",
    "# There will be 2 graphs - one for training data and the other for testing data\n",
    "# For each graph,\n",
    "    # X-axis will be the learning rate going from 0.05-1 in increments on 0.05\n",
    "    # Y-axis will be the accuracy values at the selected learning rate.\n",
    "\n",
    "import matplotlib.pyplot as plt\n"
   ]
  },
  {
   "cell_type": "markdown",
   "metadata": {
    "id": "onnqJYTEq0l3"
   },
   "source": [
    "#ID3 Decision Tree\n",
    "\n",
    "In this section, you will implement the ID3 Decision Tree algorithm. The training is for a **binary classification** task i.e. each instance will have a class value of 0 or 1. Also, assume that there are **no missing values** in the train or test data. \n"
   ]
  },
  {
   "cell_type": "markdown",
   "metadata": {
    "id": "eDNztBkTtRPw"
   },
   "source": [
    "## Algorithm\n",
    "\n",
    "(85 points)\n",
    "\n",
    "Following are the data files that will be provided to you for the ID3 algorithm implementation.\n",
    "\n",
    "*   Training file - 'id3-train.dat'\n",
    "*   Testing file - 'id3-test.dat'\n",
    "\n",
    "In these files, only non-space characters are relevant. The first line contains the attribute names. All the other lines are example instances to be used for the algorithm. Each column holds values of the attributes, whereas the last column holds the class label for that instance.\n",
    "\n",
    "In a decision tree, if you reach a leaf node but still have examples that belong to different classes, then choose the most frequent class (among the instances at the leaf node). If you reach a leaf node in the decision tree and have no examples left or the examples are equally split among multiple classes, then choose the class that is most frequent in the entire training set. You do not need to implement pruning. Also, don’t forget to use logarithm base 2 when computing entropy and set (0 log 0) to 0.\n",
    "\n",
    "Write the code in the following code block, structure is provided. Instructions on the steps to follow are provided as comments. The code should output the following 3 things:\n",
    "\n",
    "*   Print the Decision Tree created, in the following example format:\n",
    "\n",
    "    ```\n",
    "    attr1 = 0 :\n",
    "        attr2 = 0 :\n",
    "            attr3 = 0 : 1 -- 4\n",
    "            attr3 = 1 : 0 -- 9\n",
    "        attr2 = 1 :\n",
    "            attr4 = 0 : 0 -- 2\n",
    "            attr4 = 1 : 1 -- 10\n",
    "    attr1 = 1 :\n",
    "        attr2 = 1 : 1 -- 17\n",
    "\n",
    "    ```\n",
    "\n",
    "*   Accuracy on the Training data = x %\n",
    "*   Accuracy on the Test data = x %\n",
    "\n",
    "\n",
    "\n"
   ]
  },
  {
   "cell_type": "code",
   "execution_count": null,
   "metadata": {
    "id": "wTLz1lGYQJKS"
   },
   "outputs": [],
   "source": [
    "# Data file name variables\n",
    "train = basePath + \"id3-train.dat\"\n",
    "test = basePath + \"id3-test.dat\"\n"
   ]
  },
  {
   "cell_type": "code",
   "execution_count": null,
   "metadata": {
    "id": "HwHYC6xjQP5D"
   },
   "outputs": [],
   "source": [
    "# Pseudocode for the ID3 algorithm. Use this to create function(s).\n",
    "# def ID3(data, root, attributesRemaining):\n",
    "    # If you reach a leaf node in the decision tree and have no examples left or the examples are equally split among multiple classes\n",
    "        # Choose and the class that is most frequent in the entire training set and return the updated tree\n",
    "    # If all the instances have only one class label\n",
    "        # Make this as the leaf node and use the label as the class value of the node and return the updated tree\n",
    "    # If you reached a leaf node but still have examples that belong to different classes (there are no remaining attributes to be split)\n",
    "        # Assign the most frequent class among the instances at the leaf node and return the updated tree\n",
    "    # Find the best attribute to split by calculating the maximum information gain from the attributes remaining by calculating the entropy\n",
    "    # Split the tree using the best attribute and recursively call the ID3 function using DFS to fill the sub-tree\n",
    "    # return the root as the tree\n",
    "    \n"
   ]
  },
  {
   "cell_type": "code",
   "execution_count": null,
   "metadata": {
    "id": "XELGzRDftS77"
   },
   "outputs": [],
   "source": [
    "# Following is the base code structure. Feel free to change the code structure as you see fit, maybe even create more functions.\n",
    "\n",
    "# Read the first line in the training data file, to get the number of attributes\n",
    "# Read all the training instances and the ground truth class labels.\n",
    "# Create the decision tree by implementing the ID3 algorithm. Pseudocode provided above.\n",
    "# Print the tree in the example format mentioned.\n",
    "# Use the above created tree to predict the training data and print the accuracy as \"Accuracy on the Training data = x %\"\n",
    "    # For each training instance, predict the output label\n",
    "    # Compare it with the ground truth class label and calculate the accuracy accordingly\n",
    "# Use the above created tree to predict the testing data and print the accuracy as \"Accuracy on the Test data = x %\"\n",
    "    # For each testing instance, predict the output label\n",
    "    # Compare it with the ground truth class label and calculate the accuracy accordingly\n",
    "\n"
   ]
  },
  {
   "cell_type": "markdown",
   "metadata": {
    "id": "YvYowzzA4vcd"
   },
   "source": [
    "##Extra Credit - Learning Curve\n",
    "\n",
    "(05 points)\n",
    "\n",
    "Instead of taking the entire training data (all 800 instances), loop through to select 'x' instances in the increments of 40 (i.e. 40, 80, 120, and so on). For each selected number 'x', randomly pick the example instances from the training data and call the ID3 function to create the decision tree. Calculate the accuracy of the created ID3 tree on the Test data file. Plot the corresponding graph, aka Learning Curve.\n"
   ]
  },
  {
   "cell_type": "code",
   "execution_count": null,
   "metadata": {
    "id": "FYSK99zp5a7H"
   },
   "outputs": [],
   "source": [
    "# Loop through to select the number of instances 'x' in increments of 40\n",
    "# For each 'x',\n",
    "    # Randomly select 'x' instances\n",
    "    # Create the ID3 decision tree using those instances\n",
    "    # Calculate the accuracy of the ID3 tree created on the Test data\n",
    "\n",
    "# Plot the learning curve using the accuracy values\n",
    "    # X-axis will be the number of training instances used for creating the tree\n",
    "    # Y-axis will be the accuracy in % on the Test data\n",
    "\n"
   ]
  },
  {
   "cell_type": "markdown",
   "metadata": {
    "id": "YJSFgNBQrhQU"
   },
   "source": [
    "#Submission Instructions\n",
    "\n",
    "1.   Complete all tasks above - **File MUST contain the output for ALL cells**\n",
    "2.   Export this notebook as .ipynb\n",
    "      (File > Download as ipynb)\n",
    "3.   Upload the .ipynb file on Blackboard"
   ]
  },
  {
   "cell_type": "markdown",
   "metadata": {
    "id": "0lGvLE9H6ptL"
   },
   "source": [
    "##Rubric\n",
    "\n",
    "*   (40 points) Gradient Descent Algorithm\n",
    "*   (05 points) Extra Credit - GD Accuracy Plots\n",
    "*   (85 points) ID3 Algorithm\n",
    "*   (05 points) Extra Credit - ID3 Learning Curve\n"
   ]
  }
 ],
 "metadata": {
  "colab": {
   "provenance": [],
   "toc_visible": true
  },
  "kernelspec": {
   "display_name": "Python 3",
   "language": "python",
   "name": "python3"
  },
  "language_info": {
   "codemirror_mode": {
    "name": "ipython",
    "version": 3
   },
   "file_extension": ".py",
   "mimetype": "text/x-python",
   "name": "python",
   "nbconvert_exporter": "python",
   "pygments_lexer": "ipython3",
   "version": "3.13.5"
  }
 },
 "nbformat": 4,
 "nbformat_minor": 4
}
